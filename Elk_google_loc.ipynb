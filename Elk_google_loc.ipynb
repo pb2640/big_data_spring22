{
 "cells": [
  {
   "cell_type": "markdown",
   "id": "147f89e5-79ba-4832-82ce-cdcb4ca8c29c",
   "metadata": {},
   "source": [
    "### Import Libraries"
   ]
  },
  {
   "cell_type": "code",
   "execution_count": 4,
   "id": "394185c9-01f3-4436-8d38-fc69efb81e08",
   "metadata": {},
   "outputs": [],
   "source": [
    "try:\n",
    "    from elasticsearch import Elasticsearch,helpers\n",
    "    import os\n",
    "    import sys\n",
    "    import elasticsearch\n",
    "    import pandas as pd\n",
    "except Exception as e:\n",
    "    print(\"The following error occured:\",e)"
   ]
  },
  {
   "cell_type": "markdown",
   "id": "764aca30-bc4e-47e2-9cf6-6b181fcc96da",
   "metadata": {},
   "source": [
    "### Connect to Elasticsearch"
   ]
  },
  {
   "cell_type": "code",
   "execution_count": 16,
   "id": "9f64e449-d864-49a7-8c76-4e4c1db96108",
   "metadata": {},
   "outputs": [
    {
     "name": "stdout",
     "output_type": "stream",
     "text": [
      "connected\n"
     ]
    },
    {
     "name": "stderr",
     "output_type": "stream",
     "text": [
      "C:\\Users\\parth\\AppData\\Local\\Programs\\Python\\Python310\\lib\\site-packages\\elasticsearch\\connection\\base.py:200: ElasticsearchWarning: Elasticsearch built-in security features are not enabled. Without authentication, your cluster could be accessible to anyone. See https://www.elastic.co/guide/en/elasticsearch/reference/7.16/security-minimal-setup.html to enable security.\n",
      "  warnings.warn(message, category=ElasticsearchWarning)\n"
     ]
    },
    {
     "data": {
      "text/plain": [
       "<Elasticsearch([{'host': 'localhost', 'port': 9200}])>"
      ]
     },
     "execution_count": 16,
     "metadata": {},
     "output_type": "execute_result"
    }
   ],
   "source": [
    "#Lets connect to the server, we are using the python client to do so\n",
    "\n",
    "def connect_database():\n",
    "    es = None\n",
    "    es = Elasticsearch([{'host':'localhost','port':9200}])\n",
    "    if es.ping():\n",
    "        print(\"connected\")\n",
    "    else:\n",
    "        print(\"Failed\")\n",
    "    return es\n",
    "connect_database()"
   ]
  },
  {
   "cell_type": "code",
   "execution_count": 25,
   "id": "fbf81ab3-6e70-48e9-884f-f137ffd3e61f",
   "metadata": {},
   "outputs": [],
   "source": [
    "#### Check files in directory"
   ]
  },
  {
   "cell_type": "code",
   "execution_count": 4,
   "id": "228beb70-14a4-458d-97f8-31a2c79e198c",
   "metadata": {},
   "outputs": [
    {
     "name": "stdout",
     "output_type": "stream",
     "text": [
      ".git\n",
      ".ipynb_checkpoints\n",
      "combined_stock_data.csv\n",
      "data\n",
      "ElasticSearchbasics.ipynb\n",
      "Elk_google_loc.ipynb\n",
      "nlpextractor.ipynb\n",
      "stock_project.ipynb\n",
      "Untitled.ipynb\n"
     ]
    }
   ],
   "source": [
    "for filename in os.listdir():\n",
    "    print(filename)"
   ]
  },
  {
   "cell_type": "markdown",
   "id": "24dcad99-55d0-4479-8ea2-4432de3c4bf7",
   "metadata": {},
   "source": [
    "### Import File"
   ]
  },
  {
   "cell_type": "code",
   "execution_count": 6,
   "id": "ae4225e6-a223-4497-821d-afdb94cea482",
   "metadata": {},
   "outputs": [],
   "source": [
    "df = pd.read_json(r\"C:\\Users\\parth\\2022\\notebooks\\data\\Takeout\\Location History\\Semantic Location History\\2021\\2021_DECEMBER.json\")\n",
    "# print(df.isnull().sum())"
   ]
  },
  {
   "cell_type": "code",
   "execution_count": 7,
   "id": "90bf9449-784f-445c-9748-a06dd8d3b4fa",
   "metadata": {},
   "outputs": [
    {
     "data": {
      "text/html": [
       "<div>\n",
       "<style scoped>\n",
       "    .dataframe tbody tr th:only-of-type {\n",
       "        vertical-align: middle;\n",
       "    }\n",
       "\n",
       "    .dataframe tbody tr th {\n",
       "        vertical-align: top;\n",
       "    }\n",
       "\n",
       "    .dataframe thead th {\n",
       "        text-align: right;\n",
       "    }\n",
       "</style>\n",
       "<table border=\"1\" class=\"dataframe\">\n",
       "  <thead>\n",
       "    <tr style=\"text-align: right;\">\n",
       "      <th></th>\n",
       "      <th>timelineObjects</th>\n",
       "    </tr>\n",
       "  </thead>\n",
       "  <tbody>\n",
       "    <tr>\n",
       "      <th>0</th>\n",
       "      <td>{'activitySegment': {'startLocation': {'latitu...</td>\n",
       "    </tr>\n",
       "    <tr>\n",
       "      <th>1</th>\n",
       "      <td>{'placeVisit': {'location': {'latitudeE7': 406...</td>\n",
       "    </tr>\n",
       "    <tr>\n",
       "      <th>2</th>\n",
       "      <td>{'activitySegment': {'startLocation': {'latitu...</td>\n",
       "    </tr>\n",
       "    <tr>\n",
       "      <th>3</th>\n",
       "      <td>{'placeVisit': {'location': {'latitudeE7': 406...</td>\n",
       "    </tr>\n",
       "    <tr>\n",
       "      <th>4</th>\n",
       "      <td>{'placeVisit': {'location': {'latitudeE7': 406...</td>\n",
       "    </tr>\n",
       "    <tr>\n",
       "      <th>5</th>\n",
       "      <td>{'placeVisit': {'location': {'latitudeE7': 406...</td>\n",
       "    </tr>\n",
       "    <tr>\n",
       "      <th>6</th>\n",
       "      <td>{'placeVisit': {'location': {'latitudeE7': 406...</td>\n",
       "    </tr>\n",
       "    <tr>\n",
       "      <th>7</th>\n",
       "      <td>{'activitySegment': {'startLocation': {'latitu...</td>\n",
       "    </tr>\n",
       "  </tbody>\n",
       "</table>\n",
       "</div>"
      ],
      "text/plain": [
       "                                     timelineObjects\n",
       "0  {'activitySegment': {'startLocation': {'latitu...\n",
       "1  {'placeVisit': {'location': {'latitudeE7': 406...\n",
       "2  {'activitySegment': {'startLocation': {'latitu...\n",
       "3  {'placeVisit': {'location': {'latitudeE7': 406...\n",
       "4  {'placeVisit': {'location': {'latitudeE7': 406...\n",
       "5  {'placeVisit': {'location': {'latitudeE7': 406...\n",
       "6  {'placeVisit': {'location': {'latitudeE7': 406...\n",
       "7  {'activitySegment': {'startLocation': {'latitu..."
      ]
     },
     "execution_count": 7,
     "metadata": {},
     "output_type": "execute_result"
    }
   ],
   "source": [
    "df[:8]"
   ]
  },
  {
   "cell_type": "markdown",
   "id": "2eeb448d-7b83-45d4-bc06-97fbf8cf0248",
   "metadata": {},
   "source": [
    "### Convert file to right format\n",
    "Right format should have the following attributes\n",
    "<li>Dict format</li>\n",
    "<li>Unique ID</li>"
   ]
  },
  {
   "cell_type": "code",
   "execution_count": 9,
   "id": "1414aceb-9151-46ca-a3ac-231af24a9a2e",
   "metadata": {},
   "outputs": [],
   "source": [
    "df2 = df.to_dict('records')"
   ]
  },
  {
   "cell_type": "code",
   "execution_count": 10,
   "id": "a4873dc8-899d-40ac-ad77-4beb69f0ee42",
   "metadata": {},
   "outputs": [],
   "source": [
    "# add ids to the documents\n",
    "for i in range(len(df2)):\n",
    "    df2[i][\"id\"] = i"
   ]
  },
  {
   "cell_type": "code",
   "execution_count": 11,
   "id": "c43f158c-02d6-4fa3-9dc8-29798fa6b751",
   "metadata": {},
   "outputs": [
    {
     "name": "stdout",
     "output_type": "stream",
     "text": [
      "0 {'timelineObjects': {'activitySegment': {'startLocation': {'latitudeE7': 406270797, 'longitudeE7': -740243470, 'sourceInfo': {'deviceTag': 657537}}, 'endLocation': {'latitudeE7': 406254813, 'longitudeE7': -740240442, 'sourceInfo': {'deviceTag': 657537}}, 'duration': {'startTimestamp': '2021-12-01T19:55:01.136Z', 'endTimestamp': '2021-12-01T20:04:06.189Z'}, 'distance': 201, 'activityType': 'WALKING', 'confidence': 'HIGH', 'activities': [{'activityType': 'WALKING', 'probability': 90.53097367286682}, {'activityType': 'IN_PASSENGER_VEHICLE', 'probability': 4.127069190144539}, {'activityType': 'CYCLING', 'probability': 2.461812272667885}, {'activityType': 'IN_BUS', 'probability': 0.8563749492168421}, {'activityType': 'STILL', 'probability': 0.828239694237709}, {'activityType': 'RUNNING', 'probability': 0.47490238212049}, {'activityType': 'IN_SUBWAY', 'probability': 0.22579405922442602}, {'activityType': 'IN_TRAM', 'probability': 0.18923425814136802}, {'activityType': 'MOTORCYCLING', 'probability': 0.150002574082463}, {'activityType': 'IN_TRAIN', 'probability': 0.10542742675170301}, {'activityType': 'IN_FERRY', 'probability': 0.025350600481033003}, {'activityType': 'SKIING', 'probability': 0.01230934576597}, {'activityType': 'FLYING', 'probability': 0.007269762136274001}, {'activityType': 'SAILING', 'probability': 0.005242309271125001}, {'activityType': 'IN_VEHICLE', 'probability': 1.855851444743095e-08}], 'waypointPath': {'waypoints': [{'latE7': 406269645, 'lngE7': -740244674}, {'latE7': 406261291, 'lngE7': -740239028}, {'latE7': 406255073, 'lngE7': -740241622}], 'source': 'INFERRED', 'roadSegment': [{'placeId': 'ChIJmUXVs15FwokRGNeqTB0hI1g', 'duration': '209s'}, {'placeId': 'ChIJk46IH1xFwokRBpMdWDSCFeI', 'duration': '247s'}, {'placeId': 'ChIJV-yanV5FwokRu6_EG3Zdwdk', 'duration': '25s'}, {'placeId': 'ChIJV-yanV5FwokRBPaCbie-Fcc', 'duration': '16s'}, {'placeId': 'ChIJz8v9gl5FwokRvXCLacxRQP8', 'duration': '46s'}], 'distanceMeters': 197.51976311610687, 'travelMode': 'WALK', 'confidence': 0.9987313675454801}}}, 'id': 0}\n"
     ]
    }
   ],
   "source": [
    "# check what the data looks like now\n",
    "for c,line in enumerate(df2):\n",
    "    print(c,line)\n",
    "    break"
   ]
  },
  {
   "cell_type": "code",
   "execution_count": 20,
   "id": "bd1bc3f9-2fc1-4a26-af0f-399c514d7cc0",
   "metadata": {},
   "outputs": [],
   "source": [
    "def generator(df2,database_name,table_name,id_column):\n",
    "    for c,line in enumerate(df2):\n",
    "        if(line.get(\"timelineObjects\").get(\"placeVisit\")!=None):\n",
    "            print(c)\n",
    "\n",
    "            yield{\n",
    "                '_index' : database_name,\n",
    "                '_type' : table_name,\n",
    "                '_id': line.get(id_column),\n",
    "                '_source': {\n",
    "\n",
    "                        'location_latitude':line.get(\"timelineObjects\").get(\"placeVisit\").get(\"location\").get(\"latitudeE7\"),\n",
    "                        'location_longitude':line.get(\"timelineObjects\").get(\"placeVisit\").get(\"location\").get(\"longitudeE7\"),\n",
    "                        'address':line.get(\"timelineObjects\").get(\"placeVisit\").get(\"location\").get(\"address\"),\n",
    "                        'location_name':line.get(\"timelineObjects\").get(\"placeVisit\").get(\"location\").get(\"name\"),\n",
    "                        'start_timestamp':line.get(\"timelineObjects\").get(\"placeVisit\").get(\"duration\").get(\"startTimestamp\"),\n",
    "                        'end_timestamp':line.get(\"timelineObjects\").get(\"placeVisit\").get(\"duration\").get(\"endTimestamp\")\n",
    "                        # 'distance_meters':line.get(\"timelineObjects\",['No Data']).get(\"activitySegment\",['No Data']).get(\"waypointPath\",['No Data']).get(\"distanceMeters\",['No Data']),\n",
    "                        # 'travel_mode':line.get(\"timelineObjects\",['No Data']).get(\"activitySegment\",['No Data']).get(\"waypointPath\",['No Data']).get(\"travelMode\",['No Data'])                                                                                                \n",
    "                    # get returns the value of a key\n",
    "\n",
    "                }\n",
    "            }\n",
    "    # raise StopIteration\n",
    "    "
   ]
  },
  {
   "cell_type": "code",
   "execution_count": 21,
   "id": "f1593834-73a6-4a0a-83f5-a1156cc183b6",
   "metadata": {},
   "outputs": [],
   "source": [
    "gen = generator(df2,\"g_test\",\"glocation\",\"id\")"
   ]
  },
  {
   "cell_type": "code",
   "execution_count": 22,
   "id": "78ef0362-35eb-4d4f-bb65-08bf7214aa7e",
   "metadata": {},
   "outputs": [
    {
     "name": "stdout",
     "output_type": "stream",
     "text": [
      "1\n"
     ]
    },
    {
     "data": {
      "text/plain": [
       "{'_index': 'g_test',\n",
       " '_type': 'glocation',\n",
       " '_id': 1,\n",
       " '_source': {'location_latitude': 406254253,\n",
       "  'location_longitude': -740240437,\n",
       "  'address': '8007 5th Ave\\nBrooklyn, NY 11209\\nUSA',\n",
       "  'location_name': 'Farmacon Pharmacy',\n",
       "  'start_timestamp': '2021-12-01T20:04:06.189Z',\n",
       "  'end_timestamp': '2021-12-01T20:10:13.193Z'}}"
      ]
     },
     "execution_count": 22,
     "metadata": {},
     "output_type": "execute_result"
    }
   ],
   "source": [
    "next(gen)"
   ]
  },
  {
   "cell_type": "code",
   "execution_count": 23,
   "id": "eea05a89-ae3e-4b5a-a02e-884ca635b087",
   "metadata": {},
   "outputs": [
    {
     "data": {
      "text/plain": [
       "{'error': {'root_cause': [{'type': 'resource_already_exists_exception',\n",
       "    'reason': 'index [g_test2/aO_nIgMrRzO8mx09rkaqfQ] already exists',\n",
       "    'index_uuid': 'aO_nIgMrRzO8mx09rkaqfQ',\n",
       "    'index': 'g_test2'}],\n",
       "  'type': 'resource_already_exists_exception',\n",
       "  'reason': 'index [g_test2/aO_nIgMrRzO8mx09rkaqfQ] already exists',\n",
       "  'index_uuid': 'aO_nIgMrRzO8mx09rkaqfQ',\n",
       "  'index': 'g_test2'},\n",
       " 'status': 400}"
      ]
     },
     "execution_count": 23,
     "metadata": {},
     "output_type": "execute_result"
    }
   ],
   "source": [
    "es.indices.create(index=\"g_test2\",ignore = 400)"
   ]
  },
  {
   "cell_type": "code",
   "execution_count": 24,
   "id": "90c4c480-9a0e-4117-a4fe-a067a9e7a9bd",
   "metadata": {},
   "outputs": [
    {
     "name": "stdout",
     "output_type": "stream",
     "text": [
      "1\n",
      "3\n",
      "4\n",
      "5\n",
      "6\n",
      "8\n",
      "11\n",
      "13\n",
      "15\n",
      "17\n",
      "19\n",
      "23\n",
      "25\n",
      "27\n",
      "29\n",
      "31\n",
      "33\n",
      "35\n",
      "37\n",
      "39\n",
      "41\n",
      "44\n",
      "48\n",
      "50\n",
      "52\n",
      "55\n",
      "57\n",
      "59\n",
      "61\n",
      "63\n",
      "65\n",
      "67\n",
      "70\n",
      "72\n",
      "76\n",
      "78\n",
      "80\n",
      "82\n",
      "84\n",
      "86\n",
      "88\n",
      "90\n",
      "93\n",
      "95\n",
      "97\n",
      "99\n",
      "101\n",
      "103\n",
      "106\n",
      "108\n",
      "Working\n"
     ]
    },
    {
     "name": "stderr",
     "output_type": "stream",
     "text": [
      "C:\\Users\\parth\\AppData\\Local\\Programs\\Python\\Python310\\lib\\site-packages\\elasticsearch\\connection\\base.py:200: ElasticsearchWarning: [types removal] Specifying types in bulk requests is deprecated.\n",
      "  warnings.warn(message, category=ElasticsearchWarning)\n"
     ]
    }
   ],
   "source": [
    "try:\n",
    "    res = helpers.bulk(es,generator(df2,\"g_test2\",\"glocation\",\"id\"))\n",
    "    print(\"Working\")\n",
    "except Exception as e:\n",
    "    print(\"done\",e)\n"
   ]
  },
  {
   "cell_type": "code",
   "execution_count": null,
   "id": "c6b85d33-1cbf-4473-96fb-55cee45619b3",
   "metadata": {},
   "outputs": [],
   "source": []
  },
  {
   "cell_type": "code",
   "execution_count": 13,
   "id": "1e41ed42-da89-4b02-8460-166c3479f1b4",
   "metadata": {},
   "outputs": [],
   "source": [
    "# Database setup"
   ]
  },
  {
   "cell_type": "code",
   "execution_count": 14,
   "id": "dad90dcb-49e4-4803-8cee-7c1b538061ed",
   "metadata": {},
   "outputs": [
    {
     "name": "stderr",
     "output_type": "stream",
     "text": [
      "C:\\Users\\parth\\AppData\\Local\\Programs\\Python\\Python310\\lib\\site-packages\\elasticsearch\\connection\\base.py:200: ElasticsearchWarning: Elasticsearch built-in security features are not enabled. Without authentication, your cluster could be accessible to anyone. See https://www.elastic.co/guide/en/elasticsearch/reference/7.16/security-minimal-setup.html to enable security.\n",
      "  warnings.warn(message, category=ElasticsearchWarning)\n"
     ]
    },
    {
     "data": {
      "text/plain": [
       "{'acknowledged': True, 'shards_acknowledged': True, 'index': 'mydatabasename'}"
      ]
     },
     "execution_count": 14,
     "metadata": {},
     "output_type": "execute_result"
    }
   ],
   "source": [
    "es.indices.create(index = \"mydatabasename\",ignore = 400)"
   ]
  },
  {
   "cell_type": "code",
   "execution_count": 123,
   "id": "b0514fb6-2ca2-4e46-8385-918d1497dff0",
   "metadata": {},
   "outputs": [
    {
     "name": "stdout",
     "output_type": "stream",
     "text": [
      ".kibana-event-log-7.16.3-000003\n",
      "g_test\n",
      "icecream_kaggle\n",
      ".async-search\n",
      ".kibana_7.16.3_001\n",
      "greencan_demo\n",
      ".kibana-event-log-7.16.3-000001\n",
      ".kibana_task_manager_7.16.3_001\n",
      ".apm-custom-link\n",
      ".tasks\n",
      ".apm-agent-configuration\n",
      "stocks2020to2021\n",
      "netflix_sample\n",
      ".kibana-event-log-7.16.3-000002\n",
      "person\n"
     ]
    },
    {
     "name": "stderr",
     "output_type": "stream",
     "text": [
      "C:\\Users\\parth\\AppData\\Local\\Temp\\ipykernel_31560\\516184771.py:1: DeprecationWarning: Using positional arguments for APIs is deprecated and will be disabled in 8.0.0. Instead use only keyword arguments for all APIs. See https://github.com/elastic/elasticsearch-py/issues/1698 for more information\n",
      "  res = es.indices.get_alias(\"*\")\n",
      "C:\\Users\\parth\\AppData\\Local\\Programs\\Python\\Python310\\lib\\site-packages\\elasticsearch\\connection\\base.py:200: ElasticsearchWarning: this request accesses system indices: [.async-search, .kibana_7.16.3_001, .kibana_task_manager_7.16.3_001, .apm-custom-link, .tasks, .apm-agent-configuration], but in a future major version, direct access to system indices will be prevented by default\n",
      "  warnings.warn(message, category=ElasticsearchWarning)\n"
     ]
    }
   ],
   "source": [
    "res = es.indices.get_alias(\"*\")\n",
    "for name in res:\n",
    "    print(name)"
   ]
  },
  {
   "cell_type": "code",
   "execution_count": 16,
   "id": "1417e588-f18f-4d04-82be-6fc16f5751ea",
   "metadata": {},
   "outputs": [
    {
     "name": "stderr",
     "output_type": "stream",
     "text": [
      "C:\\Users\\parth\\AppData\\Local\\Programs\\Python\\Python310\\lib\\site-packages\\elasticsearch\\connection\\base.py:200: ElasticsearchWarning: Elasticsearch built-in security features are not enabled. Without authentication, your cluster could be accessible to anyone. See https://www.elastic.co/guide/en/elasticsearch/reference/7.16/security-minimal-setup.html to enable security.\n",
      "  warnings.warn(message, category=ElasticsearchWarning)\n"
     ]
    },
    {
     "data": {
      "text/plain": [
       "{'acknowledged': True}"
      ]
     },
     "execution_count": 16,
     "metadata": {},
     "output_type": "execute_result"
    }
   ],
   "source": [
    "es.indices.delete(index='mydatabasename',ignore = [400,404])"
   ]
  },
  {
   "cell_type": "markdown",
   "id": "0c6774c0-62ff-4ef8-bbe6-d2f48a6c8224",
   "metadata": {},
   "source": [
    "## Inserting data into kibana"
   ]
  },
  {
   "cell_type": "code",
   "execution_count": 19,
   "id": "29cf4546-4eb2-4594-a6e9-57774a9be74b",
   "metadata": {},
   "outputs": [],
   "source": [
    "record1 = {\n",
    "    \"name\" : \"Parth\",\n",
    "    \"age\" :26,\n",
    "    \n",
    "    \n",
    "}\n",
    "record2 = {\n",
    "    \"name\" : \"Samarth\",\n",
    "    \"age\" :20,\n",
    "    \n",
    "    \n",
    "}"
   ]
  },
  {
   "cell_type": "code",
   "execution_count": 20,
   "id": "ee97ad29-bce8-459b-a3ba-2958ad913dcf",
   "metadata": {},
   "outputs": [
    {
     "name": "stderr",
     "output_type": "stream",
     "text": [
      "C:\\Users\\parth\\AppData\\Local\\Programs\\Python\\Python310\\lib\\site-packages\\elasticsearch\\connection\\base.py:200: ElasticsearchWarning: Elasticsearch built-in security features are not enabled. Without authentication, your cluster could be accessible to anyone. See https://www.elastic.co/guide/en/elasticsearch/reference/7.16/security-minimal-setup.html to enable security.\n",
      "  warnings.warn(message, category=ElasticsearchWarning)\n"
     ]
    },
    {
     "data": {
      "text/plain": [
       "{'acknowledged': True, 'shards_acknowledged': True, 'index': 'person'}"
      ]
     },
     "execution_count": 20,
     "metadata": {},
     "output_type": "execute_result"
    }
   ],
   "source": [
    "es.indices.create(index=\"person\",ignore = 400)"
   ]
  },
  {
   "cell_type": "code",
   "execution_count": 17,
   "id": "ccffb1de-34ea-427e-8fff-4bdfdecf8207",
   "metadata": {},
   "outputs": [
    {
     "name": "stderr",
     "output_type": "stream",
     "text": [
      "C:\\Users\\parth\\AppData\\Local\\Temp\\ipykernel_5688\\2801456637.py:1: DeprecationWarning: The 'body' parameter is deprecated for the 'index' API and will be removed in a future version. Instead use the 'document' parameter. See https://github.com/elastic/elasticsearch-py/issues/1698 for more information\n",
      "  resp = es.index(index = \"g_test\",doc_type='glocation',body = df2[0])\n",
      "C:\\Users\\parth\\AppData\\Local\\Programs\\Python\\Python310\\lib\\site-packages\\elasticsearch\\connection\\base.py:200: ElasticsearchWarning: [types removal] Specifying types in document index requests is deprecated, use the typeless endpoints instead (/{index}/_doc/{id}, /{index}/_doc, or /{index}/_create/{id}).\n",
      "  warnings.warn(message, category=ElasticsearchWarning)\n"
     ]
    }
   ],
   "source": [
    "resp = es.index(index = \"g_test\",doc_type='glocation',body = df2[0])"
   ]
  },
  {
   "cell_type": "code",
   "execution_count": 19,
   "id": "d8d19146-4ed4-4389-b2e0-baf8b65eda7e",
   "metadata": {},
   "outputs": [
    {
     "name": "stderr",
     "output_type": "stream",
     "text": [
      "C:\\Users\\parth\\AppData\\Local\\Temp\\ipykernel_5688\\2628710241.py:2: DeprecationWarning: The 'body' parameter is deprecated for the 'index' API and will be removed in a future version. Instead use the 'document' parameter. See https://github.com/elastic/elasticsearch-py/issues/1698 for more information\n",
      "  es.index(index = \"g_test2\",doc_type='glocation',body = df2[i])\n"
     ]
    }
   ],
   "source": [
    "for i in range(len(df)):\n",
    "    es.index(index = \"g_test2\",doc_type='glocation',body = df2[i])\n",
    "    "
   ]
  },
  {
   "cell_type": "code",
   "execution_count": 18,
   "id": "7c91c06e-f718-4448-b254-e65a4d3a158f",
   "metadata": {},
   "outputs": [
    {
     "data": {
      "text/plain": [
       "{'_index': 'g_test',\n",
       " '_type': 'glocation',\n",
       " '_id': '8gPnbIAB-WKrEUGjvlT_',\n",
       " '_version': 1,\n",
       " 'result': 'created',\n",
       " '_shards': {'total': 2, 'successful': 1, 'failed': 0},\n",
       " '_seq_no': 1,\n",
       " '_primary_term': 2}"
      ]
     },
     "execution_count": 18,
     "metadata": {},
     "output_type": "execute_result"
    }
   ],
   "source": [
    "resp"
   ]
  },
  {
   "cell_type": "code",
   "execution_count": 141,
   "id": "14570a31-7b17-49fb-a16c-deb560a05b7e",
   "metadata": {},
   "outputs": [
    {
     "name": "stderr",
     "output_type": "stream",
     "text": [
      "C:\\Users\\parth\\AppData\\Local\\Temp\\ipykernel_31560\\1110477524.py:7: DeprecationWarning: The 'body' parameter is deprecated for the 'search' API and will be removed in a future version. Instead use API parameters directly. See https://github.com/elastic/elasticsearch-py/issues/1698 for more information\n",
      "  res = es.search(index='g_test',body = query   )\n"
     ]
    }
   ],
   "source": [
    "query = {\n",
    "    \"query\" : {\n",
    "        \"match_all\":{}\n",
    "    }\n",
    "}\n",
    "    \n",
    "res = es.search(index='g_test',body = query   )"
   ]
  },
  {
   "cell_type": "code",
   "execution_count": null,
   "id": "d86e7f0c-a2dc-44c1-865a-21b89fbe7023",
   "metadata": {},
   "outputs": [],
   "source": []
  }
 ],
 "metadata": {
  "kernelspec": {
   "display_name": "Python 3 (ipykernel)",
   "language": "python",
   "name": "python3"
  },
  "language_info": {
   "codemirror_mode": {
    "name": "ipython",
    "version": 3
   },
   "file_extension": ".py",
   "mimetype": "text/x-python",
   "name": "python",
   "nbconvert_exporter": "python",
   "pygments_lexer": "ipython3",
   "version": "3.10.1"
  }
 },
 "nbformat": 4,
 "nbformat_minor": 5
}
