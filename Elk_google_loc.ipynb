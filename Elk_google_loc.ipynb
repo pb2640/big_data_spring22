{
 "cells": [
  {
   "cell_type": "markdown",
   "id": "147f89e5-79ba-4832-82ce-cdcb4ca8c29c",
   "metadata": {},
   "source": [
    "### Import Libraries"
   ]
  },
  {
   "cell_type": "code",
   "execution_count": 1,
   "id": "394185c9-01f3-4436-8d38-fc69efb81e08",
   "metadata": {},
   "outputs": [],
   "source": [
    "try:\n",
    "    from elasticsearch import Elasticsearch,helpers\n",
    "    import os\n",
    "    import sys\n",
    "    import elasticsearch\n",
    "    import pandas as pd\n",
    "except Exception as e:\n",
    "    print(\"The following error occured:\",e)"
   ]
  },
  {
   "cell_type": "markdown",
   "id": "764aca30-bc4e-47e2-9cf6-6b181fcc96da",
   "metadata": {},
   "source": [
    "### Connect to Elasticsearch"
   ]
  },
  {
   "cell_type": "code",
   "execution_count": 13,
   "id": "1935ee2b-950e-4f42-af32-075da7f1c99c",
   "metadata": {},
   "outputs": [],
   "source": [
    "es = Elasticsearch([{'host':'localhost','port':9200}])"
   ]
  },
  {
   "cell_type": "code",
   "execution_count": null,
   "id": "2da3a08a-4348-4af7-b6c8-2a8eb7a1d58d",
   "metadata": {},
   "outputs": [],
   "source": []
  },
  {
   "cell_type": "code",
   "execution_count": 14,
   "id": "9f64e449-d864-49a7-8c76-4e4c1db96108",
   "metadata": {},
   "outputs": [
    {
     "name": "stdout",
     "output_type": "stream",
     "text": [
      "connected\n"
     ]
    },
    {
     "data": {
      "text/plain": [
       "<Elasticsearch([{'host': 'localhost', 'port': 9200}])>"
      ]
     },
     "execution_count": 14,
     "metadata": {},
     "output_type": "execute_result"
    }
   ],
   "source": [
    "#Lets connect to the server, we are using the python client to do so\n",
    "\n",
    "def connect_database():\n",
    "    if es.ping():\n",
    "        print(\"connected\")\n",
    "    else:\n",
    "        print(\"Failed\")\n",
    "    return es\n",
    "connect_database()"
   ]
  },
  {
   "cell_type": "code",
   "execution_count": 15,
   "id": "6c6a66f8-2022-4b1d-9e5c-1a1b6183c3fe",
   "metadata": {},
   "outputs": [
    {
     "data": {
      "text/plain": [
       "<Elasticsearch([{'host': 'localhost', 'port': 9200}])>"
      ]
     },
     "execution_count": 15,
     "metadata": {},
     "output_type": "execute_result"
    }
   ],
   "source": [
    "es"
   ]
  },
  {
   "cell_type": "code",
   "execution_count": 25,
   "id": "fbf81ab3-6e70-48e9-884f-f137ffd3e61f",
   "metadata": {},
   "outputs": [],
   "source": [
    "#### Check files in directory"
   ]
  },
  {
   "cell_type": "code",
   "execution_count": 3,
   "id": "228beb70-14a4-458d-97f8-31a2c79e198c",
   "metadata": {},
   "outputs": [
    {
     "name": "stdout",
     "output_type": "stream",
     "text": [
      ".git\n",
      ".ipynb_checkpoints\n",
      "combined_stock_data.csv\n",
      "data\n",
      "ElasticSearchbasics.ipynb\n",
      "Elk_google_loc.ipynb\n",
      "nlpextractor.ipynb\n",
      "stock_project.ipynb\n",
      "Untitled.ipynb\n"
     ]
    }
   ],
   "source": [
    "for filename in os.listdir():\n",
    "    print(filename)"
   ]
  },
  {
   "cell_type": "markdown",
   "id": "25bfb180-4776-4ea3-be2b-b2318815273e",
   "metadata": {},
   "source": [
    "### Create an index"
   ]
  },
  {
   "cell_type": "code",
   "execution_count": 54,
   "id": "fe6691a2-bdcb-4bcd-9577-de8b87a9993d",
   "metadata": {},
   "outputs": [
    {
     "data": {
      "text/plain": [
       "{'acknowledged': True}"
      ]
     },
     "execution_count": 54,
     "metadata": {},
     "output_type": "execute_result"
    }
   ],
   "source": [
    "#before creating you might want to delete the index so that you don't  overload the cluster\n",
    "es.indices.delete(index='gtest1', ignore=[400, 404])"
   ]
  },
  {
   "cell_type": "code",
   "execution_count": 55,
   "id": "fa379f5c-acde-4c53-b760-584b1c80d526",
   "metadata": {},
   "outputs": [
    {
     "data": {
      "text/plain": [
       "{'acknowledged': True, 'shards_acknowledged': True, 'index': 'gtest1'}"
      ]
     },
     "execution_count": 55,
     "metadata": {},
     "output_type": "execute_result"
    }
   ],
   "source": [
    "es.indices.create(index='gtest1', ignore=400)"
   ]
  },
  {
   "cell_type": "markdown",
   "id": "24dcad99-55d0-4479-8ea2-4432de3c4bf7",
   "metadata": {},
   "source": [
    "### Import File"
   ]
  },
  {
   "cell_type": "code",
   "execution_count": 20,
   "id": "ae4225e6-a223-4497-821d-afdb94cea482",
   "metadata": {},
   "outputs": [],
   "source": [
    "df = pd.read_json(r\"C:\\Users\\parth\\2022\\notebooks\\data\\Takeout\\Location History\\Semantic Location History\\2021\\2021_DECEMBER.json\")\n",
    "# print(df.isnull().sum())"
   ]
  },
  {
   "cell_type": "markdown",
   "id": "7ffcfe5c-530d-45e6-b966-d0db65ad4fe5",
   "metadata": {},
   "source": [
    "### Combine all 2021 data"
   ]
  },
  {
   "cell_type": "code",
   "execution_count": 68,
   "id": "f2b00a24-2ef8-4b4a-b47b-972db7db7fc4",
   "metadata": {},
   "outputs": [
    {
     "data": {
      "text/plain": [
       "['2021_APRIL.json',\n",
       " '2021_AUGUST.json',\n",
       " '2021_DECEMBER.json',\n",
       " '2021_FEBRUARY.json',\n",
       " '2021_JANUARY.json',\n",
       " '2021_JULY.json',\n",
       " '2021_JUNE.json',\n",
       " '2021_MARCH.json',\n",
       " '2021_MAY.json',\n",
       " '2021_NOVEMBER.json',\n",
       " '2021_OCTOBER.json',\n",
       " '2021_SEPTEMBER.json']"
      ]
     },
     "execution_count": 68,
     "metadata": {},
     "output_type": "execute_result"
    }
   ],
   "source": [
    "os.listdir(r\".\\data\\Takeout\\Location History\\Semantic Location History\\2021\")"
   ]
  },
  {
   "cell_type": "code",
   "execution_count": 72,
   "id": "e100c461-86c4-45b1-9b20-cbfb4810c86d",
   "metadata": {},
   "outputs": [],
   "source": [
    "data_21 = []\n",
    "for year in os.listdir(\"./data/Takeout/Location History/Semantic Location History/\"):\n",
    "    for file in os.listdir(\"./data/Takeout/Location History/Semantic Location History/\"+year):\n",
    "        df = pd.read_json(\"./data/Takeout/Location History/Semantic Location History/\"+year+\"/\"+file)\n",
    "        df2 = df.to_dict('records')\n",
    "        for i in range(len(df2)):\n",
    "            line = df2[i]\n",
    "\n",
    "            if(line.get(\"timelineObjects\").get(\"placeVisit\")!=None):\n",
    "\n",
    "                doc = {\n",
    "                'location_latitude':line.get(\"timelineObjects\").get(\"placeVisit\").get(\"location\").get(\"latitudeE7\")/10000000,\n",
    "                'location_longitude':line.get(\"timelineObjects\").get(\"placeVisit\").get(\"location\").get(\"longitudeE7\")/10000000,\n",
    "                'address':line.get(\"timelineObjects\").get(\"placeVisit\").get(\"location\").get(\"address\"),\n",
    "                'location_name':line.get(\"timelineObjects\").get(\"placeVisit\").get(\"location\").get(\"name\"),\n",
    "                'start_timestamp':line.get(\"timelineObjects\").get(\"placeVisit\").get(\"duration\").get(\"startTimestamp\"),\n",
    "                'end_timestamp':line.get(\"timelineObjects\").get(\"placeVisit\").get(\"duration\").get(\"endTimestamp\")}\n",
    "                data_21.append(doc)"
   ]
  },
  {
   "cell_type": "code",
   "execution_count": 73,
   "id": "b0866960-02f5-4e76-8ec7-758403dcdc2b",
   "metadata": {},
   "outputs": [
    {
     "data": {
      "text/html": [
       "<div>\n",
       "<style scoped>\n",
       "    .dataframe tbody tr th:only-of-type {\n",
       "        vertical-align: middle;\n",
       "    }\n",
       "\n",
       "    .dataframe tbody tr th {\n",
       "        vertical-align: top;\n",
       "    }\n",
       "\n",
       "    .dataframe thead th {\n",
       "        text-align: right;\n",
       "    }\n",
       "</style>\n",
       "<table border=\"1\" class=\"dataframe\">\n",
       "  <thead>\n",
       "    <tr style=\"text-align: right;\">\n",
       "      <th></th>\n",
       "      <th>location_latitude</th>\n",
       "      <th>location_longitude</th>\n",
       "      <th>address</th>\n",
       "      <th>location_name</th>\n",
       "      <th>start_timestamp</th>\n",
       "      <th>end_timestamp</th>\n",
       "    </tr>\n",
       "  </thead>\n",
       "  <tbody>\n",
       "    <tr>\n",
       "      <th>0</th>\n",
       "      <td>26.915530</td>\n",
       "      <td>75.809993</td>\n",
       "      <td>C-16, Bhagwan Das Road, Panch Batti, Jaipur, R...</td>\n",
       "      <td>Rajmandir Cinema</td>\n",
       "      <td>2016-12-25T13:58:09.686Z</td>\n",
       "      <td>2016-12-25T14:49:09.355Z</td>\n",
       "    </tr>\n",
       "    <tr>\n",
       "      <th>1</th>\n",
       "      <td>26.911086</td>\n",
       "      <td>75.795220</td>\n",
       "      <td>A-5, Ground Floor, Inside Suryavanshi Pearl, S...</td>\n",
       "      <td>Natural Ice Cream</td>\n",
       "      <td>2016-12-25T15:20:12.264Z</td>\n",
       "      <td>2016-12-25T15:27:26.513Z</td>\n",
       "    </tr>\n",
       "    <tr>\n",
       "      <th>2</th>\n",
       "      <td>28.600155</td>\n",
       "      <td>77.226959</td>\n",
       "      <td>46, Khan Market Rd, Rabindra Nagar, New Delhi,...</td>\n",
       "      <td>Khan Market</td>\n",
       "      <td>2016-12-27T13:10:21Z</td>\n",
       "      <td>2016-12-27T15:08:13.660Z</td>\n",
       "    </tr>\n",
       "    <tr>\n",
       "      <th>3</th>\n",
       "      <td>28.505675</td>\n",
       "      <td>77.217034</td>\n",
       "      <td>Sainik Farms Dispensary, Sainik Farms, Khanpur...</td>\n",
       "      <td>Eklavaya Group|Sainik Farms Central Avenue</td>\n",
       "      <td>2016-12-27T15:55:23Z</td>\n",
       "      <td>2016-12-28T04:51:53.617Z</td>\n",
       "    </tr>\n",
       "    <tr>\n",
       "      <th>4</th>\n",
       "      <td>28.539542</td>\n",
       "      <td>77.143911</td>\n",
       "      <td>Sector - C, Pocket - 9, Vasant Kunj, New Delhi...</td>\n",
       "      <td>Community Park</td>\n",
       "      <td>2016-12-28T05:25:37Z</td>\n",
       "      <td>2016-12-28T07:24:51.652Z</td>\n",
       "    </tr>\n",
       "    <tr>\n",
       "      <th>...</th>\n",
       "      <td>...</td>\n",
       "      <td>...</td>\n",
       "      <td>...</td>\n",
       "      <td>...</td>\n",
       "      <td>...</td>\n",
       "      <td>...</td>\n",
       "    </tr>\n",
       "    <tr>\n",
       "      <th>1364</th>\n",
       "      <td>40.638500</td>\n",
       "      <td>-74.019466</td>\n",
       "      <td>430 63rd St\\nBrooklyn, NY 11220\\nUSA</td>\n",
       "      <td>430 63rd St</td>\n",
       "      <td>2022-01-17T10:18:46.517Z</td>\n",
       "      <td>2022-01-17T10:25:39.493Z</td>\n",
       "    </tr>\n",
       "    <tr>\n",
       "      <th>1365</th>\n",
       "      <td>40.627074</td>\n",
       "      <td>-74.024361</td>\n",
       "      <td>469 79th St\\nBrooklyn, NY 11209\\nUSA</td>\n",
       "      <td>469 79th St</td>\n",
       "      <td>2022-01-17T10:33:52.563Z</td>\n",
       "      <td>2022-01-18T16:29:05.335Z</td>\n",
       "    </tr>\n",
       "    <tr>\n",
       "      <th>1366</th>\n",
       "      <td>40.633588</td>\n",
       "      <td>-74.020598</td>\n",
       "      <td>6817 5th Ave\\nBrooklyn, NY 11220\\nUSA</td>\n",
       "      <td>Alpine Cinema</td>\n",
       "      <td>2022-01-18T18:44:42.784Z</td>\n",
       "      <td>2022-01-18T20:53:50.871Z</td>\n",
       "    </tr>\n",
       "    <tr>\n",
       "      <th>1367</th>\n",
       "      <td>40.632364</td>\n",
       "      <td>-74.027143</td>\n",
       "      <td>7315 3rd Ave\\nBrooklyn, NY 11209\\nUSA</td>\n",
       "      <td>Taj Mahal</td>\n",
       "      <td>2022-01-18T21:02:32.754Z</td>\n",
       "      <td>2022-01-18T22:16:49.747Z</td>\n",
       "    </tr>\n",
       "    <tr>\n",
       "      <th>1368</th>\n",
       "      <td>40.627074</td>\n",
       "      <td>-74.024361</td>\n",
       "      <td>469 79th St\\nBrooklyn, NY 11209\\nUSA</td>\n",
       "      <td>469 79th St</td>\n",
       "      <td>2022-01-18T22:27:03.312Z</td>\n",
       "      <td>2022-01-19T18:50:43.869Z</td>\n",
       "    </tr>\n",
       "  </tbody>\n",
       "</table>\n",
       "<p>1369 rows × 6 columns</p>\n",
       "</div>"
      ],
      "text/plain": [
       "      location_latitude  location_longitude  \\\n",
       "0             26.915530           75.809993   \n",
       "1             26.911086           75.795220   \n",
       "2             28.600155           77.226959   \n",
       "3             28.505675           77.217034   \n",
       "4             28.539542           77.143911   \n",
       "...                 ...                 ...   \n",
       "1364          40.638500          -74.019466   \n",
       "1365          40.627074          -74.024361   \n",
       "1366          40.633588          -74.020598   \n",
       "1367          40.632364          -74.027143   \n",
       "1368          40.627074          -74.024361   \n",
       "\n",
       "                                                address  \\\n",
       "0     C-16, Bhagwan Das Road, Panch Batti, Jaipur, R...   \n",
       "1     A-5, Ground Floor, Inside Suryavanshi Pearl, S...   \n",
       "2     46, Khan Market Rd, Rabindra Nagar, New Delhi,...   \n",
       "3     Sainik Farms Dispensary, Sainik Farms, Khanpur...   \n",
       "4     Sector - C, Pocket - 9, Vasant Kunj, New Delhi...   \n",
       "...                                                 ...   \n",
       "1364               430 63rd St\\nBrooklyn, NY 11220\\nUSA   \n",
       "1365               469 79th St\\nBrooklyn, NY 11209\\nUSA   \n",
       "1366              6817 5th Ave\\nBrooklyn, NY 11220\\nUSA   \n",
       "1367              7315 3rd Ave\\nBrooklyn, NY 11209\\nUSA   \n",
       "1368               469 79th St\\nBrooklyn, NY 11209\\nUSA   \n",
       "\n",
       "                                   location_name           start_timestamp  \\\n",
       "0                               Rajmandir Cinema  2016-12-25T13:58:09.686Z   \n",
       "1                              Natural Ice Cream  2016-12-25T15:20:12.264Z   \n",
       "2                                    Khan Market      2016-12-27T13:10:21Z   \n",
       "3     Eklavaya Group|Sainik Farms Central Avenue      2016-12-27T15:55:23Z   \n",
       "4                                 Community Park      2016-12-28T05:25:37Z   \n",
       "...                                          ...                       ...   \n",
       "1364                                 430 63rd St  2022-01-17T10:18:46.517Z   \n",
       "1365                                 469 79th St  2022-01-17T10:33:52.563Z   \n",
       "1366                               Alpine Cinema  2022-01-18T18:44:42.784Z   \n",
       "1367                                   Taj Mahal  2022-01-18T21:02:32.754Z   \n",
       "1368                                 469 79th St  2022-01-18T22:27:03.312Z   \n",
       "\n",
       "                 end_timestamp  \n",
       "0     2016-12-25T14:49:09.355Z  \n",
       "1     2016-12-25T15:27:26.513Z  \n",
       "2     2016-12-27T15:08:13.660Z  \n",
       "3     2016-12-28T04:51:53.617Z  \n",
       "4     2016-12-28T07:24:51.652Z  \n",
       "...                        ...  \n",
       "1364  2022-01-17T10:25:39.493Z  \n",
       "1365  2022-01-18T16:29:05.335Z  \n",
       "1366  2022-01-18T20:53:50.871Z  \n",
       "1367  2022-01-18T22:16:49.747Z  \n",
       "1368  2022-01-19T18:50:43.869Z  \n",
       "\n",
       "[1369 rows x 6 columns]"
      ]
     },
     "execution_count": 73,
     "metadata": {},
     "output_type": "execute_result"
    }
   ],
   "source": [
    "df = pd.DataFrame.from_dict(data_21)"
   ]
  },
  {
   "cell_type": "code",
   "execution_count": 7,
   "id": "90bf9449-784f-445c-9748-a06dd8d3b4fa",
   "metadata": {},
   "outputs": [
    {
     "data": {
      "text/html": [
       "<div>\n",
       "<style scoped>\n",
       "    .dataframe tbody tr th:only-of-type {\n",
       "        vertical-align: middle;\n",
       "    }\n",
       "\n",
       "    .dataframe tbody tr th {\n",
       "        vertical-align: top;\n",
       "    }\n",
       "\n",
       "    .dataframe thead th {\n",
       "        text-align: right;\n",
       "    }\n",
       "</style>\n",
       "<table border=\"1\" class=\"dataframe\">\n",
       "  <thead>\n",
       "    <tr style=\"text-align: right;\">\n",
       "      <th></th>\n",
       "      <th>timelineObjects</th>\n",
       "    </tr>\n",
       "  </thead>\n",
       "  <tbody>\n",
       "    <tr>\n",
       "      <th>0</th>\n",
       "      <td>{'activitySegment': {'startLocation': {'latitu...</td>\n",
       "    </tr>\n",
       "    <tr>\n",
       "      <th>1</th>\n",
       "      <td>{'placeVisit': {'location': {'latitudeE7': 406...</td>\n",
       "    </tr>\n",
       "    <tr>\n",
       "      <th>2</th>\n",
       "      <td>{'activitySegment': {'startLocation': {'latitu...</td>\n",
       "    </tr>\n",
       "    <tr>\n",
       "      <th>3</th>\n",
       "      <td>{'placeVisit': {'location': {'latitudeE7': 406...</td>\n",
       "    </tr>\n",
       "    <tr>\n",
       "      <th>4</th>\n",
       "      <td>{'placeVisit': {'location': {'latitudeE7': 406...</td>\n",
       "    </tr>\n",
       "    <tr>\n",
       "      <th>5</th>\n",
       "      <td>{'placeVisit': {'location': {'latitudeE7': 406...</td>\n",
       "    </tr>\n",
       "    <tr>\n",
       "      <th>6</th>\n",
       "      <td>{'placeVisit': {'location': {'latitudeE7': 406...</td>\n",
       "    </tr>\n",
       "    <tr>\n",
       "      <th>7</th>\n",
       "      <td>{'activitySegment': {'startLocation': {'latitu...</td>\n",
       "    </tr>\n",
       "  </tbody>\n",
       "</table>\n",
       "</div>"
      ],
      "text/plain": [
       "                                     timelineObjects\n",
       "0  {'activitySegment': {'startLocation': {'latitu...\n",
       "1  {'placeVisit': {'location': {'latitudeE7': 406...\n",
       "2  {'activitySegment': {'startLocation': {'latitu...\n",
       "3  {'placeVisit': {'location': {'latitudeE7': 406...\n",
       "4  {'placeVisit': {'location': {'latitudeE7': 406...\n",
       "5  {'placeVisit': {'location': {'latitudeE7': 406...\n",
       "6  {'placeVisit': {'location': {'latitudeE7': 406...\n",
       "7  {'activitySegment': {'startLocation': {'latitu..."
      ]
     },
     "execution_count": 7,
     "metadata": {},
     "output_type": "execute_result"
    }
   ],
   "source": [
    "df[:8]"
   ]
  },
  {
   "cell_type": "code",
   "execution_count": 21,
   "id": "1414aceb-9151-46ca-a3ac-231af24a9a2e",
   "metadata": {},
   "outputs": [],
   "source": [
    "df2 = df.to_dict('records')"
   ]
  },
  {
   "cell_type": "code",
   "execution_count": 22,
   "id": "a4873dc8-899d-40ac-ad77-4beb69f0ee42",
   "metadata": {},
   "outputs": [],
   "source": [
    "# add ids to the documents\n",
    "for i in range(len(df2)):\n",
    "    df2[i][\"id\"] = i"
   ]
  },
  {
   "cell_type": "code",
   "execution_count": 23,
   "id": "1d657d82-009c-4d40-8b95-5389654eca9b",
   "metadata": {},
   "outputs": [
    {
     "data": {
      "text/plain": [
       "{'timelineObjects': {'activitySegment': {'startLocation': {'latitudeE7': 406270797,\n",
       "    'longitudeE7': -740243470,\n",
       "    'sourceInfo': {'deviceTag': 657537}},\n",
       "   'endLocation': {'latitudeE7': 406254813,\n",
       "    'longitudeE7': -740240442,\n",
       "    'sourceInfo': {'deviceTag': 657537}},\n",
       "   'duration': {'startTimestamp': '2021-12-01T19:55:01.136Z',\n",
       "    'endTimestamp': '2021-12-01T20:04:06.189Z'},\n",
       "   'distance': 201,\n",
       "   'activityType': 'WALKING',\n",
       "   'confidence': 'HIGH',\n",
       "   'activities': [{'activityType': 'WALKING',\n",
       "     'probability': 90.53097367286682},\n",
       "    {'activityType': 'IN_PASSENGER_VEHICLE', 'probability': 4.127069190144539},\n",
       "    {'activityType': 'CYCLING', 'probability': 2.461812272667885},\n",
       "    {'activityType': 'IN_BUS', 'probability': 0.8563749492168421},\n",
       "    {'activityType': 'STILL', 'probability': 0.828239694237709},\n",
       "    {'activityType': 'RUNNING', 'probability': 0.47490238212049},\n",
       "    {'activityType': 'IN_SUBWAY', 'probability': 0.22579405922442602},\n",
       "    {'activityType': 'IN_TRAM', 'probability': 0.18923425814136802},\n",
       "    {'activityType': 'MOTORCYCLING', 'probability': 0.150002574082463},\n",
       "    {'activityType': 'IN_TRAIN', 'probability': 0.10542742675170301},\n",
       "    {'activityType': 'IN_FERRY', 'probability': 0.025350600481033003},\n",
       "    {'activityType': 'SKIING', 'probability': 0.01230934576597},\n",
       "    {'activityType': 'FLYING', 'probability': 0.007269762136274001},\n",
       "    {'activityType': 'SAILING', 'probability': 0.005242309271125001},\n",
       "    {'activityType': 'IN_VEHICLE', 'probability': 1.855851444743095e-08}],\n",
       "   'waypointPath': {'waypoints': [{'latE7': 406269645, 'lngE7': -740244674},\n",
       "     {'latE7': 406261291, 'lngE7': -740239028},\n",
       "     {'latE7': 406255073, 'lngE7': -740241622}],\n",
       "    'source': 'INFERRED',\n",
       "    'roadSegment': [{'placeId': 'ChIJmUXVs15FwokRGNeqTB0hI1g',\n",
       "      'duration': '209s'},\n",
       "     {'placeId': 'ChIJk46IH1xFwokRBpMdWDSCFeI', 'duration': '247s'},\n",
       "     {'placeId': 'ChIJV-yanV5FwokRu6_EG3Zdwdk', 'duration': '25s'},\n",
       "     {'placeId': 'ChIJV-yanV5FwokRBPaCbie-Fcc', 'duration': '16s'},\n",
       "     {'placeId': 'ChIJz8v9gl5FwokRvXCLacxRQP8', 'duration': '46s'}],\n",
       "    'distanceMeters': 197.51976311610687,\n",
       "    'travelMode': 'WALK',\n",
       "    'confidence': 0.9987313675454801}}},\n",
       " 'id': 0}"
      ]
     },
     "execution_count": 23,
     "metadata": {},
     "output_type": "execute_result"
    }
   ],
   "source": [
    "df2[0]"
   ]
  },
  {
   "cell_type": "code",
   "execution_count": 7,
   "id": "c43f158c-02d6-4fa3-9dc8-29798fa6b751",
   "metadata": {},
   "outputs": [
    {
     "name": "stdout",
     "output_type": "stream",
     "text": [
      "0 {'timelineObjects': {'activitySegment': {'startLocation': {'latitudeE7': 406270797, 'longitudeE7': -740243470, 'sourceInfo': {'deviceTag': 657537}}, 'endLocation': {'latitudeE7': 406254813, 'longitudeE7': -740240442, 'sourceInfo': {'deviceTag': 657537}}, 'duration': {'startTimestamp': '2021-12-01T19:55:01.136Z', 'endTimestamp': '2021-12-01T20:04:06.189Z'}, 'distance': 201, 'activityType': 'WALKING', 'confidence': 'HIGH', 'activities': [{'activityType': 'WALKING', 'probability': 90.53097367286682}, {'activityType': 'IN_PASSENGER_VEHICLE', 'probability': 4.127069190144539}, {'activityType': 'CYCLING', 'probability': 2.461812272667885}, {'activityType': 'IN_BUS', 'probability': 0.8563749492168421}, {'activityType': 'STILL', 'probability': 0.828239694237709}, {'activityType': 'RUNNING', 'probability': 0.47490238212049}, {'activityType': 'IN_SUBWAY', 'probability': 0.22579405922442602}, {'activityType': 'IN_TRAM', 'probability': 0.18923425814136802}, {'activityType': 'MOTORCYCLING', 'probability': 0.150002574082463}, {'activityType': 'IN_TRAIN', 'probability': 0.10542742675170301}, {'activityType': 'IN_FERRY', 'probability': 0.025350600481033003}, {'activityType': 'SKIING', 'probability': 0.01230934576597}, {'activityType': 'FLYING', 'probability': 0.007269762136274001}, {'activityType': 'SAILING', 'probability': 0.005242309271125001}, {'activityType': 'IN_VEHICLE', 'probability': 1.855851444743095e-08}], 'waypointPath': {'waypoints': [{'latE7': 406269645, 'lngE7': -740244674}, {'latE7': 406261291, 'lngE7': -740239028}, {'latE7': 406255073, 'lngE7': -740241622}], 'source': 'INFERRED', 'roadSegment': [{'placeId': 'ChIJmUXVs15FwokRGNeqTB0hI1g', 'duration': '209s'}, {'placeId': 'ChIJk46IH1xFwokRBpMdWDSCFeI', 'duration': '247s'}, {'placeId': 'ChIJV-yanV5FwokRu6_EG3Zdwdk', 'duration': '25s'}, {'placeId': 'ChIJV-yanV5FwokRBPaCbie-Fcc', 'duration': '16s'}, {'placeId': 'ChIJz8v9gl5FwokRvXCLacxRQP8', 'duration': '46s'}], 'distanceMeters': 197.51976311610687, 'travelMode': 'WALK', 'confidence': 0.9987313675454801}}}, 'id': 0}\n"
     ]
    }
   ],
   "source": [
    "# check what the data looks like now\n",
    "for c,line in enumerate(df2):\n",
    "    print(c,line)\n",
    "    break"
   ]
  },
  {
   "cell_type": "code",
   "execution_count": 26,
   "id": "58567749-6757-4d1a-ae9d-aed1e2e7717b",
   "metadata": {},
   "outputs": [],
   "source": [
    "line = df2[0]"
   ]
  },
  {
   "cell_type": "code",
   "execution_count": 27,
   "id": "281d3499-a198-4c79-8d59-8b8e69eb8a1b",
   "metadata": {},
   "outputs": [
    {
     "data": {
      "text/plain": [
       "{'activitySegment': {'startLocation': {'latitudeE7': 406270797,\n",
       "   'longitudeE7': -740243470,\n",
       "   'sourceInfo': {'deviceTag': 657537}},\n",
       "  'endLocation': {'latitudeE7': 406254813,\n",
       "   'longitudeE7': -740240442,\n",
       "   'sourceInfo': {'deviceTag': 657537}},\n",
       "  'duration': {'startTimestamp': '2021-12-01T19:55:01.136Z',\n",
       "   'endTimestamp': '2021-12-01T20:04:06.189Z'},\n",
       "  'distance': 201,\n",
       "  'activityType': 'WALKING',\n",
       "  'confidence': 'HIGH',\n",
       "  'activities': [{'activityType': 'WALKING', 'probability': 90.53097367286682},\n",
       "   {'activityType': 'IN_PASSENGER_VEHICLE', 'probability': 4.127069190144539},\n",
       "   {'activityType': 'CYCLING', 'probability': 2.461812272667885},\n",
       "   {'activityType': 'IN_BUS', 'probability': 0.8563749492168421},\n",
       "   {'activityType': 'STILL', 'probability': 0.828239694237709},\n",
       "   {'activityType': 'RUNNING', 'probability': 0.47490238212049},\n",
       "   {'activityType': 'IN_SUBWAY', 'probability': 0.22579405922442602},\n",
       "   {'activityType': 'IN_TRAM', 'probability': 0.18923425814136802},\n",
       "   {'activityType': 'MOTORCYCLING', 'probability': 0.150002574082463},\n",
       "   {'activityType': 'IN_TRAIN', 'probability': 0.10542742675170301},\n",
       "   {'activityType': 'IN_FERRY', 'probability': 0.025350600481033003},\n",
       "   {'activityType': 'SKIING', 'probability': 0.01230934576597},\n",
       "   {'activityType': 'FLYING', 'probability': 0.007269762136274001},\n",
       "   {'activityType': 'SAILING', 'probability': 0.005242309271125001},\n",
       "   {'activityType': 'IN_VEHICLE', 'probability': 1.855851444743095e-08}],\n",
       "  'waypointPath': {'waypoints': [{'latE7': 406269645, 'lngE7': -740244674},\n",
       "    {'latE7': 406261291, 'lngE7': -740239028},\n",
       "    {'latE7': 406255073, 'lngE7': -740241622}],\n",
       "   'source': 'INFERRED',\n",
       "   'roadSegment': [{'placeId': 'ChIJmUXVs15FwokRGNeqTB0hI1g',\n",
       "     'duration': '209s'},\n",
       "    {'placeId': 'ChIJk46IH1xFwokRBpMdWDSCFeI', 'duration': '247s'},\n",
       "    {'placeId': 'ChIJV-yanV5FwokRu6_EG3Zdwdk', 'duration': '25s'},\n",
       "    {'placeId': 'ChIJV-yanV5FwokRBPaCbie-Fcc', 'duration': '16s'},\n",
       "    {'placeId': 'ChIJz8v9gl5FwokRvXCLacxRQP8', 'duration': '46s'}],\n",
       "   'distanceMeters': 197.51976311610687,\n",
       "   'travelMode': 'WALK',\n",
       "   'confidence': 0.9987313675454801}}}"
      ]
     },
     "execution_count": 27,
     "metadata": {},
     "output_type": "execute_result"
    }
   ],
   "source": [
    "line.get(\"timelineObjects\")"
   ]
  },
  {
   "cell_type": "code",
   "execution_count": 62,
   "id": "3895df8a-09ac-44b5-ba66-d354fa11c6c3",
   "metadata": {},
   "outputs": [],
   "source": [
    "data = []\n",
    "for i in range(len(df2)):\n",
    "    line = df2[i]\n",
    "\n",
    "    if(line.get(\"timelineObjects\").get(\"placeVisit\")!=None):\n",
    "       \n",
    "        doc = {\n",
    "        'location_latitude':line.get(\"timelineObjects\").get(\"placeVisit\").get(\"location\").get(\"latitudeE7\")/10000000,\n",
    "        'location_longitude':line.get(\"timelineObjects\").get(\"placeVisit\").get(\"location\").get(\"longitudeE7\")/10000000,\n",
    "        'address':line.get(\"timelineObjects\").get(\"placeVisit\").get(\"location\").get(\"address\"),\n",
    "        'location_name':line.get(\"timelineObjects\").get(\"placeVisit\").get(\"location\").get(\"name\"),\n",
    "        'start_timestamp':line.get(\"timelineObjects\").get(\"placeVisit\").get(\"duration\").get(\"startTimestamp\"),\n",
    "        'end_timestamp':line.get(\"timelineObjects\").get(\"placeVisit\").get(\"duration\").get(\"endTimestamp\")}\n",
    "        data.append(doc)\n"
   ]
  },
  {
   "cell_type": "markdown",
   "id": "aa8a53be-fe4a-442e-85c3-f69db18676c2",
   "metadata": {},
   "source": [
    "### Convert dict to dictionary"
   ]
  },
  {
   "cell_type": "code",
   "execution_count": 63,
   "id": "d23f73cc-f1b4-4182-a46b-b7665341cce9",
   "metadata": {},
   "outputs": [
    {
     "data": {
      "text/html": [
       "<div>\n",
       "<style scoped>\n",
       "    .dataframe tbody tr th:only-of-type {\n",
       "        vertical-align: middle;\n",
       "    }\n",
       "\n",
       "    .dataframe tbody tr th {\n",
       "        vertical-align: top;\n",
       "    }\n",
       "\n",
       "    .dataframe thead th {\n",
       "        text-align: right;\n",
       "    }\n",
       "</style>\n",
       "<table border=\"1\" class=\"dataframe\">\n",
       "  <thead>\n",
       "    <tr style=\"text-align: right;\">\n",
       "      <th></th>\n",
       "      <th>location_latitude</th>\n",
       "      <th>location_longitude</th>\n",
       "      <th>address</th>\n",
       "      <th>location_name</th>\n",
       "      <th>start_timestamp</th>\n",
       "      <th>end_timestamp</th>\n",
       "    </tr>\n",
       "  </thead>\n",
       "  <tbody>\n",
       "    <tr>\n",
       "      <th>0</th>\n",
       "      <td>40.625425</td>\n",
       "      <td>-74.024044</td>\n",
       "      <td>8007 5th Ave\\nBrooklyn, NY 11209\\nUSA</td>\n",
       "      <td>Farmacon Pharmacy</td>\n",
       "      <td>2021-12-01T20:04:06.189Z</td>\n",
       "      <td>2021-12-01T20:10:13.193Z</td>\n",
       "    </tr>\n",
       "    <tr>\n",
       "      <th>1</th>\n",
       "      <td>40.627074</td>\n",
       "      <td>-74.024361</td>\n",
       "      <td>469 79th St\\nBrooklyn, NY 11209\\nUSA</td>\n",
       "      <td>469 79th St</td>\n",
       "      <td>2021-12-01T20:16:17.219Z</td>\n",
       "      <td>2021-12-01T21:28:33.070Z</td>\n",
       "    </tr>\n",
       "    <tr>\n",
       "      <th>2</th>\n",
       "      <td>40.627074</td>\n",
       "      <td>-74.024361</td>\n",
       "      <td>469 79th St\\nBrooklyn, NY 11209\\nUSA</td>\n",
       "      <td>469 79th St</td>\n",
       "      <td>2021-12-18T18:21:40.404Z</td>\n",
       "      <td>2021-12-18T19:13:55.515Z</td>\n",
       "    </tr>\n",
       "    <tr>\n",
       "      <th>3</th>\n",
       "      <td>40.627074</td>\n",
       "      <td>-74.024361</td>\n",
       "      <td>469 79th St\\nBrooklyn, NY 11209\\nUSA</td>\n",
       "      <td>469 79th St</td>\n",
       "      <td>2021-12-20T04:25:35.434Z</td>\n",
       "      <td>2021-12-20T06:54:12.894Z</td>\n",
       "    </tr>\n",
       "    <tr>\n",
       "      <th>4</th>\n",
       "      <td>40.638500</td>\n",
       "      <td>-74.019466</td>\n",
       "      <td>430 63rd St\\nBrooklyn, NY 11220\\nUSA</td>\n",
       "      <td>430 63rd St</td>\n",
       "      <td>2021-12-21T08:54:18.946Z</td>\n",
       "      <td>2021-12-21T09:22:37Z</td>\n",
       "    </tr>\n",
       "    <tr>\n",
       "      <th>5</th>\n",
       "      <td>40.627074</td>\n",
       "      <td>-74.024361</td>\n",
       "      <td>469 79th St\\nBrooklyn, NY 11209\\nUSA</td>\n",
       "      <td>469 79th St</td>\n",
       "      <td>2021-12-21T09:26:37Z</td>\n",
       "      <td>2021-12-21T18:56:49.505Z</td>\n",
       "    </tr>\n",
       "    <tr>\n",
       "      <th>6</th>\n",
       "      <td>40.727565</td>\n",
       "      <td>-73.993012</td>\n",
       "      <td>383 Lafayette St\\nNew York, NY 10003\\nUSA</td>\n",
       "      <td>StudentLink Center</td>\n",
       "      <td>2021-12-21T19:54:50Z</td>\n",
       "      <td>2021-12-22T18:11:49.533Z</td>\n",
       "    </tr>\n",
       "    <tr>\n",
       "      <th>7</th>\n",
       "      <td>40.684861</td>\n",
       "      <td>-73.994385</td>\n",
       "      <td>265 Court St\\nBrooklyn, NY 11231\\nUSA</td>\n",
       "      <td>Cobble Hill Cinemas</td>\n",
       "      <td>2021-12-22T18:30:26.307Z</td>\n",
       "      <td>2021-12-22T21:11:30.720Z</td>\n",
       "    </tr>\n",
       "    <tr>\n",
       "      <th>8</th>\n",
       "      <td>40.692251</td>\n",
       "      <td>-73.987279</td>\n",
       "      <td>Brooklyn, NY 11201\\nUSA</td>\n",
       "      <td>Jay St - MetroTech</td>\n",
       "      <td>2021-12-22T21:31:39.073Z</td>\n",
       "      <td>2021-12-22T21:38:41.782Z</td>\n",
       "    </tr>\n",
       "    <tr>\n",
       "      <th>9</th>\n",
       "      <td>40.731114</td>\n",
       "      <td>-74.001223</td>\n",
       "      <td>340 6th Ave\\nNew York, NY 10011\\nUSA</td>\n",
       "      <td>W 4 St - Wash Sq</td>\n",
       "      <td>2021-12-22T21:50:21.288Z</td>\n",
       "      <td>2021-12-22T21:58:42.930Z</td>\n",
       "    </tr>\n",
       "    <tr>\n",
       "      <th>10</th>\n",
       "      <td>40.730669</td>\n",
       "      <td>-74.000058</td>\n",
       "      <td>129 MacDougal St\\nNew York, NY 10012\\nUSA</td>\n",
       "      <td>La Lanterna di Vittorio</td>\n",
       "      <td>2021-12-22T22:09:40.428Z</td>\n",
       "      <td>2021-12-22T23:44:59.441Z</td>\n",
       "    </tr>\n",
       "    <tr>\n",
       "      <th>11</th>\n",
       "      <td>40.627074</td>\n",
       "      <td>-74.024361</td>\n",
       "      <td>469 79th St\\nBrooklyn, NY 11209\\nUSA</td>\n",
       "      <td>469 79th St</td>\n",
       "      <td>2021-12-23T00:45:02.564Z</td>\n",
       "      <td>2021-12-23T22:06:17.411Z</td>\n",
       "    </tr>\n",
       "    <tr>\n",
       "      <th>12</th>\n",
       "      <td>40.626987</td>\n",
       "      <td>-74.029972</td>\n",
       "      <td>8102 3rd Ave\\nBrooklyn, NY 11209\\nUSA</td>\n",
       "      <td>Brooklyn Harvest Market</td>\n",
       "      <td>2021-12-23T22:12:21.627Z</td>\n",
       "      <td>2021-12-23T22:51:41.506Z</td>\n",
       "    </tr>\n",
       "    <tr>\n",
       "      <th>13</th>\n",
       "      <td>40.627074</td>\n",
       "      <td>-74.024361</td>\n",
       "      <td>469 79th St\\nBrooklyn, NY 11209\\nUSA</td>\n",
       "      <td>469 79th St</td>\n",
       "      <td>2021-12-23T23:05:58.531Z</td>\n",
       "      <td>2021-12-24T20:22:34.804Z</td>\n",
       "    </tr>\n",
       "    <tr>\n",
       "      <th>14</th>\n",
       "      <td>40.629774</td>\n",
       "      <td>-74.025486</td>\n",
       "      <td>Brooklyn, NY 11209\\nUSA</td>\n",
       "      <td>77 St</td>\n",
       "      <td>2021-12-24T20:28:01.886Z</td>\n",
       "      <td>2021-12-24T20:35:45.665Z</td>\n",
       "    </tr>\n",
       "    <tr>\n",
       "      <th>15</th>\n",
       "      <td>40.683760</td>\n",
       "      <td>-73.978757</td>\n",
       "      <td>Brooklyn, NY 11217\\nUSA</td>\n",
       "      <td>Atlantic Av-Barclays Ctr</td>\n",
       "      <td>2021-12-24T20:52:48.507Z</td>\n",
       "      <td>2021-12-24T20:56:54.994Z</td>\n",
       "    </tr>\n",
       "    <tr>\n",
       "      <th>16</th>\n",
       "      <td>40.781220</td>\n",
       "      <td>-73.966514</td>\n",
       "      <td>New York, NY\\nUSA</td>\n",
       "      <td>Central Park</td>\n",
       "      <td>2021-12-24T21:26:53.337Z</td>\n",
       "      <td>2021-12-24T21:39:40.877Z</td>\n",
       "    </tr>\n",
       "    <tr>\n",
       "      <th>17</th>\n",
       "      <td>40.758740</td>\n",
       "      <td>-73.978674</td>\n",
       "      <td>45 Rockefeller Plaza\\nNew York, NY 10111\\nUSA</td>\n",
       "      <td>Rockefeller Center</td>\n",
       "      <td>2021-12-24T21:50:08.713Z</td>\n",
       "      <td>2021-12-24T22:18:28.834Z</td>\n",
       "    </tr>\n",
       "    <tr>\n",
       "      <th>18</th>\n",
       "      <td>40.755562</td>\n",
       "      <td>-73.968746</td>\n",
       "      <td>246 E 51st St\\nNew York, NY 10022\\nUSA</td>\n",
       "      <td>Amma</td>\n",
       "      <td>2021-12-24T22:33:31.820Z</td>\n",
       "      <td>2021-12-24T23:56:51.406Z</td>\n",
       "    </tr>\n",
       "    <tr>\n",
       "      <th>19</th>\n",
       "      <td>40.757975</td>\n",
       "      <td>-73.985543</td>\n",
       "      <td>Manhattan, NY 10036\\nUSA</td>\n",
       "      <td>Times Square</td>\n",
       "      <td>2021-12-25T00:15:40.893Z</td>\n",
       "      <td>2021-12-25T00:22:01.787Z</td>\n",
       "    </tr>\n",
       "    <tr>\n",
       "      <th>20</th>\n",
       "      <td>40.781220</td>\n",
       "      <td>-73.966514</td>\n",
       "      <td>New York, NY\\nUSA</td>\n",
       "      <td>Central Park</td>\n",
       "      <td>2021-12-25T00:38:09.911Z</td>\n",
       "      <td>2021-12-25T00:50:06.881Z</td>\n",
       "    </tr>\n",
       "    <tr>\n",
       "      <th>21</th>\n",
       "      <td>40.627074</td>\n",
       "      <td>-74.024361</td>\n",
       "      <td>469 79th St\\nBrooklyn, NY 11209\\nUSA</td>\n",
       "      <td>469 79th St</td>\n",
       "      <td>2021-12-25T01:35:58.800Z</td>\n",
       "      <td>2021-12-26T19:51:01.908Z</td>\n",
       "    </tr>\n",
       "    <tr>\n",
       "      <th>22</th>\n",
       "      <td>40.781220</td>\n",
       "      <td>-73.966514</td>\n",
       "      <td>New York, NY\\nUSA</td>\n",
       "      <td>Central Park</td>\n",
       "      <td>2021-12-26T22:14:16.105Z</td>\n",
       "      <td>2021-12-26T22:22:10Z</td>\n",
       "    </tr>\n",
       "    <tr>\n",
       "      <th>23</th>\n",
       "      <td>40.758850</td>\n",
       "      <td>-73.981186</td>\n",
       "      <td>New York, NY 10020\\nUSA</td>\n",
       "      <td>47-50 Sts-Rockefeller Ctr</td>\n",
       "      <td>2021-12-27T00:06:04.550Z</td>\n",
       "      <td>2021-12-27T00:15:20.996Z</td>\n",
       "    </tr>\n",
       "    <tr>\n",
       "      <th>24</th>\n",
       "      <td>40.683760</td>\n",
       "      <td>-73.978757</td>\n",
       "      <td>Brooklyn, NY 11217\\nUSA</td>\n",
       "      <td>Atlantic Av-Barclays Ctr</td>\n",
       "      <td>2021-12-27T00:36:36.914Z</td>\n",
       "      <td>2021-12-27T00:42:18.283Z</td>\n",
       "    </tr>\n",
       "    <tr>\n",
       "      <th>25</th>\n",
       "      <td>40.627074</td>\n",
       "      <td>-74.024361</td>\n",
       "      <td>469 79th St\\nBrooklyn, NY 11209\\nUSA</td>\n",
       "      <td>469 79th St</td>\n",
       "      <td>2021-12-27T01:08:10.352Z</td>\n",
       "      <td>2021-12-27T01:47:14.383Z</td>\n",
       "    </tr>\n",
       "    <tr>\n",
       "      <th>26</th>\n",
       "      <td>40.625769</td>\n",
       "      <td>-74.024319</td>\n",
       "      <td>8002 5th Ave\\nBrooklyn, NY 11209\\nUSA</td>\n",
       "      <td>Istanbul Bay</td>\n",
       "      <td>2021-12-27T01:51:20.467Z</td>\n",
       "      <td>2021-12-27T02:53:18.522Z</td>\n",
       "    </tr>\n",
       "    <tr>\n",
       "      <th>27</th>\n",
       "      <td>40.627074</td>\n",
       "      <td>-74.024361</td>\n",
       "      <td>469 79th St\\nBrooklyn, NY 11209\\nUSA</td>\n",
       "      <td>469 79th St</td>\n",
       "      <td>2021-12-27T02:55:19.242Z</td>\n",
       "      <td>2021-12-27T17:31:05.808Z</td>\n",
       "    </tr>\n",
       "    <tr>\n",
       "      <th>28</th>\n",
       "      <td>40.629774</td>\n",
       "      <td>-74.025486</td>\n",
       "      <td>Brooklyn, NY 11209\\nUSA</td>\n",
       "      <td>77 St</td>\n",
       "      <td>2021-12-27T17:35:11.280Z</td>\n",
       "      <td>2021-12-27T17:42:37.302Z</td>\n",
       "    </tr>\n",
       "    <tr>\n",
       "      <th>29</th>\n",
       "      <td>40.778324</td>\n",
       "      <td>-73.956622</td>\n",
       "      <td>1248 Lexington Ave #2012\\nNew York, NY 10028\\nUSA</td>\n",
       "      <td>Famous Famiglia</td>\n",
       "      <td>2021-12-27T18:32:47.419Z</td>\n",
       "      <td>2021-12-27T18:58:37.773Z</td>\n",
       "    </tr>\n",
       "    <tr>\n",
       "      <th>30</th>\n",
       "      <td>40.781220</td>\n",
       "      <td>-73.966514</td>\n",
       "      <td>New York, NY\\nUSA</td>\n",
       "      <td>Central Park</td>\n",
       "      <td>2021-12-27T19:15:14.533Z</td>\n",
       "      <td>2021-12-27T22:02:49.646Z</td>\n",
       "    </tr>\n",
       "    <tr>\n",
       "      <th>31</th>\n",
       "      <td>40.779491</td>\n",
       "      <td>-73.955589</td>\n",
       "      <td>New York, NY 10028\\nUSA</td>\n",
       "      <td>86th Street</td>\n",
       "      <td>2021-12-27T22:14:44.319Z</td>\n",
       "      <td>2021-12-27T22:17:51.298Z</td>\n",
       "    </tr>\n",
       "    <tr>\n",
       "      <th>32</th>\n",
       "      <td>40.729173</td>\n",
       "      <td>-73.989923</td>\n",
       "      <td>69 Cooper Sq\\nNew York, NY 10003\\nUSA</td>\n",
       "      <td>Moge Tee East Village</td>\n",
       "      <td>2021-12-27T22:41:29.331Z</td>\n",
       "      <td>2021-12-27T23:00:28.899Z</td>\n",
       "    </tr>\n",
       "    <tr>\n",
       "      <th>33</th>\n",
       "      <td>40.726680</td>\n",
       "      <td>-73.984533</td>\n",
       "      <td>111 E 7th St\\nNew York, NY 10009\\nUSA</td>\n",
       "      <td>Ladybird</td>\n",
       "      <td>2021-12-27T23:06:33.748Z</td>\n",
       "      <td>2021-12-28T00:26:21.549Z</td>\n",
       "    </tr>\n",
       "    <tr>\n",
       "      <th>34</th>\n",
       "      <td>40.627074</td>\n",
       "      <td>-74.024361</td>\n",
       "      <td>469 79th St\\nBrooklyn, NY 11209\\nUSA</td>\n",
       "      <td>469 79th St</td>\n",
       "      <td>2021-12-28T01:33:04.504Z</td>\n",
       "      <td>2021-12-28T18:25:46.514Z</td>\n",
       "    </tr>\n",
       "    <tr>\n",
       "      <th>35</th>\n",
       "      <td>40.630427</td>\n",
       "      <td>-74.028391</td>\n",
       "      <td>7612-14 3rd Ave\\nBrooklyn, NY 11209\\nUSA</td>\n",
       "      <td>Omonia Cafe</td>\n",
       "      <td>2021-12-28T18:31:51.968Z</td>\n",
       "      <td>2021-12-28T19:50:39.899Z</td>\n",
       "    </tr>\n",
       "    <tr>\n",
       "      <th>36</th>\n",
       "      <td>40.627074</td>\n",
       "      <td>-74.024361</td>\n",
       "      <td>469 79th St\\nBrooklyn, NY 11209\\nUSA</td>\n",
       "      <td>469 79th St</td>\n",
       "      <td>2021-12-28T19:57:40.262Z</td>\n",
       "      <td>2021-12-28T22:19:02.038Z</td>\n",
       "    </tr>\n",
       "    <tr>\n",
       "      <th>37</th>\n",
       "      <td>40.619806</td>\n",
       "      <td>-74.032307</td>\n",
       "      <td>9105-27 3rd Ave\\nBrooklyn, NY 11209\\nUSA</td>\n",
       "      <td>Foodtown of Bay Ridge</td>\n",
       "      <td>2021-12-28T22:40:02.856Z</td>\n",
       "      <td>2021-12-28T22:51:38.124Z</td>\n",
       "    </tr>\n",
       "    <tr>\n",
       "      <th>38</th>\n",
       "      <td>40.616187</td>\n",
       "      <td>-74.031243</td>\n",
       "      <td>Brooklyn, NY 11209\\nUSA</td>\n",
       "      <td>Bay Ridge - 95 St</td>\n",
       "      <td>2021-12-28T22:55:33.253Z</td>\n",
       "      <td>2021-12-29T21:11:34.137Z</td>\n",
       "    </tr>\n",
       "    <tr>\n",
       "      <th>39</th>\n",
       "      <td>40.722647</td>\n",
       "      <td>-73.986710</td>\n",
       "      <td>114 E 1st St\\nNew York, NY 10009\\nUSA</td>\n",
       "      <td>Punjabi Deli</td>\n",
       "      <td>2021-12-29T21:21:40.920Z</td>\n",
       "      <td>2021-12-29T21:49:50.307Z</td>\n",
       "    </tr>\n",
       "    <tr>\n",
       "      <th>40</th>\n",
       "      <td>40.717311</td>\n",
       "      <td>-73.990005</td>\n",
       "      <td>65 Ludlow St\\nNew York, NY 10002\\nUSA</td>\n",
       "      <td>Waypoint Cafe NYC</td>\n",
       "      <td>2021-12-29T21:56:46.773Z</td>\n",
       "      <td>2021-12-30T00:10:30.463Z</td>\n",
       "    </tr>\n",
       "    <tr>\n",
       "      <th>41</th>\n",
       "      <td>40.718452</td>\n",
       "      <td>-73.993248</td>\n",
       "      <td>131 Forsyth St\\nNew York, NY 10002\\nUSA</td>\n",
       "      <td>Lion's Gate Field</td>\n",
       "      <td>2021-12-30T00:11:32.419Z</td>\n",
       "      <td>2021-12-30T00:18:18.179Z</td>\n",
       "    </tr>\n",
       "    <tr>\n",
       "      <th>42</th>\n",
       "      <td>40.627074</td>\n",
       "      <td>-74.024361</td>\n",
       "      <td>469 79th St\\nBrooklyn, NY 11209\\nUSA</td>\n",
       "      <td>469 79th St</td>\n",
       "      <td>2021-12-30T01:04:42.367Z</td>\n",
       "      <td>2021-12-30T15:10:17.438Z</td>\n",
       "    </tr>\n",
       "    <tr>\n",
       "      <th>43</th>\n",
       "      <td>40.629774</td>\n",
       "      <td>-74.025486</td>\n",
       "      <td>Brooklyn, NY 11209\\nUSA</td>\n",
       "      <td>77 St</td>\n",
       "      <td>2021-12-30T15:12:21.121Z</td>\n",
       "      <td>2021-12-30T15:22:00.696Z</td>\n",
       "    </tr>\n",
       "    <tr>\n",
       "      <th>44</th>\n",
       "      <td>40.665414</td>\n",
       "      <td>-73.992926</td>\n",
       "      <td>Prospect Ave\\nBrooklyn, NY 11215\\nUSA</td>\n",
       "      <td>Prospect Av</td>\n",
       "      <td>2021-12-30T15:37:59.695Z</td>\n",
       "      <td>2021-12-30T19:11:09.332Z</td>\n",
       "    </tr>\n",
       "    <tr>\n",
       "      <th>45</th>\n",
       "      <td>40.729513</td>\n",
       "      <td>-73.996461</td>\n",
       "      <td>New York, NY 10012\\nUSA</td>\n",
       "      <td>New York University</td>\n",
       "      <td>2021-12-30T21:58:03.761Z</td>\n",
       "      <td>2021-12-30T22:10:59.828Z</td>\n",
       "    </tr>\n",
       "    <tr>\n",
       "      <th>46</th>\n",
       "      <td>40.730660</td>\n",
       "      <td>-74.002171</td>\n",
       "      <td>7 Carmine St\\nNew York, NY 10014\\nUSA</td>\n",
       "      <td>Joe's Pizza</td>\n",
       "      <td>2021-12-30T22:17:04.929Z</td>\n",
       "      <td>2021-12-30T22:30:53.026Z</td>\n",
       "    </tr>\n",
       "    <tr>\n",
       "      <th>47</th>\n",
       "      <td>40.654506</td>\n",
       "      <td>-74.004233</td>\n",
       "      <td>New York\\nBrooklyn, NY 10012\\nUSA</td>\n",
       "      <td>36 St</td>\n",
       "      <td>2021-12-30T22:53:05.784Z</td>\n",
       "      <td>2021-12-30T22:57:37.951Z</td>\n",
       "    </tr>\n",
       "    <tr>\n",
       "      <th>48</th>\n",
       "      <td>40.627074</td>\n",
       "      <td>-74.024361</td>\n",
       "      <td>469 79th St\\nBrooklyn, NY 11209\\nUSA</td>\n",
       "      <td>469 79th St</td>\n",
       "      <td>2021-12-30T23:11:49.520Z</td>\n",
       "      <td>2021-12-31T16:12:43.769Z</td>\n",
       "    </tr>\n",
       "    <tr>\n",
       "      <th>49</th>\n",
       "      <td>40.627074</td>\n",
       "      <td>-74.024361</td>\n",
       "      <td>469 79th St\\nBrooklyn, NY 11209\\nUSA</td>\n",
       "      <td>469 79th St</td>\n",
       "      <td>2021-12-31T17:04:57Z</td>\n",
       "      <td>2022-01-01T00:12:45.881Z</td>\n",
       "    </tr>\n",
       "  </tbody>\n",
       "</table>\n",
       "</div>"
      ],
      "text/plain": [
       "    location_latitude  location_longitude  \\\n",
       "0           40.625425          -74.024044   \n",
       "1           40.627074          -74.024361   \n",
       "2           40.627074          -74.024361   \n",
       "3           40.627074          -74.024361   \n",
       "4           40.638500          -74.019466   \n",
       "5           40.627074          -74.024361   \n",
       "6           40.727565          -73.993012   \n",
       "7           40.684861          -73.994385   \n",
       "8           40.692251          -73.987279   \n",
       "9           40.731114          -74.001223   \n",
       "10          40.730669          -74.000058   \n",
       "11          40.627074          -74.024361   \n",
       "12          40.626987          -74.029972   \n",
       "13          40.627074          -74.024361   \n",
       "14          40.629774          -74.025486   \n",
       "15          40.683760          -73.978757   \n",
       "16          40.781220          -73.966514   \n",
       "17          40.758740          -73.978674   \n",
       "18          40.755562          -73.968746   \n",
       "19          40.757975          -73.985543   \n",
       "20          40.781220          -73.966514   \n",
       "21          40.627074          -74.024361   \n",
       "22          40.781220          -73.966514   \n",
       "23          40.758850          -73.981186   \n",
       "24          40.683760          -73.978757   \n",
       "25          40.627074          -74.024361   \n",
       "26          40.625769          -74.024319   \n",
       "27          40.627074          -74.024361   \n",
       "28          40.629774          -74.025486   \n",
       "29          40.778324          -73.956622   \n",
       "30          40.781220          -73.966514   \n",
       "31          40.779491          -73.955589   \n",
       "32          40.729173          -73.989923   \n",
       "33          40.726680          -73.984533   \n",
       "34          40.627074          -74.024361   \n",
       "35          40.630427          -74.028391   \n",
       "36          40.627074          -74.024361   \n",
       "37          40.619806          -74.032307   \n",
       "38          40.616187          -74.031243   \n",
       "39          40.722647          -73.986710   \n",
       "40          40.717311          -73.990005   \n",
       "41          40.718452          -73.993248   \n",
       "42          40.627074          -74.024361   \n",
       "43          40.629774          -74.025486   \n",
       "44          40.665414          -73.992926   \n",
       "45          40.729513          -73.996461   \n",
       "46          40.730660          -74.002171   \n",
       "47          40.654506          -74.004233   \n",
       "48          40.627074          -74.024361   \n",
       "49          40.627074          -74.024361   \n",
       "\n",
       "                                              address  \\\n",
       "0               8007 5th Ave\\nBrooklyn, NY 11209\\nUSA   \n",
       "1                469 79th St\\nBrooklyn, NY 11209\\nUSA   \n",
       "2                469 79th St\\nBrooklyn, NY 11209\\nUSA   \n",
       "3                469 79th St\\nBrooklyn, NY 11209\\nUSA   \n",
       "4                430 63rd St\\nBrooklyn, NY 11220\\nUSA   \n",
       "5                469 79th St\\nBrooklyn, NY 11209\\nUSA   \n",
       "6           383 Lafayette St\\nNew York, NY 10003\\nUSA   \n",
       "7               265 Court St\\nBrooklyn, NY 11231\\nUSA   \n",
       "8                             Brooklyn, NY 11201\\nUSA   \n",
       "9                340 6th Ave\\nNew York, NY 10011\\nUSA   \n",
       "10          129 MacDougal St\\nNew York, NY 10012\\nUSA   \n",
       "11               469 79th St\\nBrooklyn, NY 11209\\nUSA   \n",
       "12              8102 3rd Ave\\nBrooklyn, NY 11209\\nUSA   \n",
       "13               469 79th St\\nBrooklyn, NY 11209\\nUSA   \n",
       "14                            Brooklyn, NY 11209\\nUSA   \n",
       "15                            Brooklyn, NY 11217\\nUSA   \n",
       "16                                  New York, NY\\nUSA   \n",
       "17      45 Rockefeller Plaza\\nNew York, NY 10111\\nUSA   \n",
       "18             246 E 51st St\\nNew York, NY 10022\\nUSA   \n",
       "19                           Manhattan, NY 10036\\nUSA   \n",
       "20                                  New York, NY\\nUSA   \n",
       "21               469 79th St\\nBrooklyn, NY 11209\\nUSA   \n",
       "22                                  New York, NY\\nUSA   \n",
       "23                            New York, NY 10020\\nUSA   \n",
       "24                            Brooklyn, NY 11217\\nUSA   \n",
       "25               469 79th St\\nBrooklyn, NY 11209\\nUSA   \n",
       "26              8002 5th Ave\\nBrooklyn, NY 11209\\nUSA   \n",
       "27               469 79th St\\nBrooklyn, NY 11209\\nUSA   \n",
       "28                            Brooklyn, NY 11209\\nUSA   \n",
       "29  1248 Lexington Ave #2012\\nNew York, NY 10028\\nUSA   \n",
       "30                                  New York, NY\\nUSA   \n",
       "31                            New York, NY 10028\\nUSA   \n",
       "32              69 Cooper Sq\\nNew York, NY 10003\\nUSA   \n",
       "33              111 E 7th St\\nNew York, NY 10009\\nUSA   \n",
       "34               469 79th St\\nBrooklyn, NY 11209\\nUSA   \n",
       "35           7612-14 3rd Ave\\nBrooklyn, NY 11209\\nUSA   \n",
       "36               469 79th St\\nBrooklyn, NY 11209\\nUSA   \n",
       "37           9105-27 3rd Ave\\nBrooklyn, NY 11209\\nUSA   \n",
       "38                            Brooklyn, NY 11209\\nUSA   \n",
       "39              114 E 1st St\\nNew York, NY 10009\\nUSA   \n",
       "40              65 Ludlow St\\nNew York, NY 10002\\nUSA   \n",
       "41            131 Forsyth St\\nNew York, NY 10002\\nUSA   \n",
       "42               469 79th St\\nBrooklyn, NY 11209\\nUSA   \n",
       "43                            Brooklyn, NY 11209\\nUSA   \n",
       "44              Prospect Ave\\nBrooklyn, NY 11215\\nUSA   \n",
       "45                            New York, NY 10012\\nUSA   \n",
       "46              7 Carmine St\\nNew York, NY 10014\\nUSA   \n",
       "47                  New York\\nBrooklyn, NY 10012\\nUSA   \n",
       "48               469 79th St\\nBrooklyn, NY 11209\\nUSA   \n",
       "49               469 79th St\\nBrooklyn, NY 11209\\nUSA   \n",
       "\n",
       "                location_name           start_timestamp  \\\n",
       "0           Farmacon Pharmacy  2021-12-01T20:04:06.189Z   \n",
       "1                 469 79th St  2021-12-01T20:16:17.219Z   \n",
       "2                 469 79th St  2021-12-18T18:21:40.404Z   \n",
       "3                 469 79th St  2021-12-20T04:25:35.434Z   \n",
       "4                 430 63rd St  2021-12-21T08:54:18.946Z   \n",
       "5                 469 79th St      2021-12-21T09:26:37Z   \n",
       "6          StudentLink Center      2021-12-21T19:54:50Z   \n",
       "7         Cobble Hill Cinemas  2021-12-22T18:30:26.307Z   \n",
       "8          Jay St - MetroTech  2021-12-22T21:31:39.073Z   \n",
       "9            W 4 St - Wash Sq  2021-12-22T21:50:21.288Z   \n",
       "10    La Lanterna di Vittorio  2021-12-22T22:09:40.428Z   \n",
       "11                469 79th St  2021-12-23T00:45:02.564Z   \n",
       "12    Brooklyn Harvest Market  2021-12-23T22:12:21.627Z   \n",
       "13                469 79th St  2021-12-23T23:05:58.531Z   \n",
       "14                      77 St  2021-12-24T20:28:01.886Z   \n",
       "15   Atlantic Av-Barclays Ctr  2021-12-24T20:52:48.507Z   \n",
       "16               Central Park  2021-12-24T21:26:53.337Z   \n",
       "17         Rockefeller Center  2021-12-24T21:50:08.713Z   \n",
       "18                       Amma  2021-12-24T22:33:31.820Z   \n",
       "19               Times Square  2021-12-25T00:15:40.893Z   \n",
       "20               Central Park  2021-12-25T00:38:09.911Z   \n",
       "21                469 79th St  2021-12-25T01:35:58.800Z   \n",
       "22               Central Park  2021-12-26T22:14:16.105Z   \n",
       "23  47-50 Sts-Rockefeller Ctr  2021-12-27T00:06:04.550Z   \n",
       "24   Atlantic Av-Barclays Ctr  2021-12-27T00:36:36.914Z   \n",
       "25                469 79th St  2021-12-27T01:08:10.352Z   \n",
       "26               Istanbul Bay  2021-12-27T01:51:20.467Z   \n",
       "27                469 79th St  2021-12-27T02:55:19.242Z   \n",
       "28                      77 St  2021-12-27T17:35:11.280Z   \n",
       "29            Famous Famiglia  2021-12-27T18:32:47.419Z   \n",
       "30               Central Park  2021-12-27T19:15:14.533Z   \n",
       "31                86th Street  2021-12-27T22:14:44.319Z   \n",
       "32      Moge Tee East Village  2021-12-27T22:41:29.331Z   \n",
       "33                   Ladybird  2021-12-27T23:06:33.748Z   \n",
       "34                469 79th St  2021-12-28T01:33:04.504Z   \n",
       "35                Omonia Cafe  2021-12-28T18:31:51.968Z   \n",
       "36                469 79th St  2021-12-28T19:57:40.262Z   \n",
       "37      Foodtown of Bay Ridge  2021-12-28T22:40:02.856Z   \n",
       "38          Bay Ridge - 95 St  2021-12-28T22:55:33.253Z   \n",
       "39               Punjabi Deli  2021-12-29T21:21:40.920Z   \n",
       "40          Waypoint Cafe NYC  2021-12-29T21:56:46.773Z   \n",
       "41          Lion's Gate Field  2021-12-30T00:11:32.419Z   \n",
       "42                469 79th St  2021-12-30T01:04:42.367Z   \n",
       "43                      77 St  2021-12-30T15:12:21.121Z   \n",
       "44                Prospect Av  2021-12-30T15:37:59.695Z   \n",
       "45        New York University  2021-12-30T21:58:03.761Z   \n",
       "46                Joe's Pizza  2021-12-30T22:17:04.929Z   \n",
       "47                      36 St  2021-12-30T22:53:05.784Z   \n",
       "48                469 79th St  2021-12-30T23:11:49.520Z   \n",
       "49                469 79th St      2021-12-31T17:04:57Z   \n",
       "\n",
       "               end_timestamp  \n",
       "0   2021-12-01T20:10:13.193Z  \n",
       "1   2021-12-01T21:28:33.070Z  \n",
       "2   2021-12-18T19:13:55.515Z  \n",
       "3   2021-12-20T06:54:12.894Z  \n",
       "4       2021-12-21T09:22:37Z  \n",
       "5   2021-12-21T18:56:49.505Z  \n",
       "6   2021-12-22T18:11:49.533Z  \n",
       "7   2021-12-22T21:11:30.720Z  \n",
       "8   2021-12-22T21:38:41.782Z  \n",
       "9   2021-12-22T21:58:42.930Z  \n",
       "10  2021-12-22T23:44:59.441Z  \n",
       "11  2021-12-23T22:06:17.411Z  \n",
       "12  2021-12-23T22:51:41.506Z  \n",
       "13  2021-12-24T20:22:34.804Z  \n",
       "14  2021-12-24T20:35:45.665Z  \n",
       "15  2021-12-24T20:56:54.994Z  \n",
       "16  2021-12-24T21:39:40.877Z  \n",
       "17  2021-12-24T22:18:28.834Z  \n",
       "18  2021-12-24T23:56:51.406Z  \n",
       "19  2021-12-25T00:22:01.787Z  \n",
       "20  2021-12-25T00:50:06.881Z  \n",
       "21  2021-12-26T19:51:01.908Z  \n",
       "22      2021-12-26T22:22:10Z  \n",
       "23  2021-12-27T00:15:20.996Z  \n",
       "24  2021-12-27T00:42:18.283Z  \n",
       "25  2021-12-27T01:47:14.383Z  \n",
       "26  2021-12-27T02:53:18.522Z  \n",
       "27  2021-12-27T17:31:05.808Z  \n",
       "28  2021-12-27T17:42:37.302Z  \n",
       "29  2021-12-27T18:58:37.773Z  \n",
       "30  2021-12-27T22:02:49.646Z  \n",
       "31  2021-12-27T22:17:51.298Z  \n",
       "32  2021-12-27T23:00:28.899Z  \n",
       "33  2021-12-28T00:26:21.549Z  \n",
       "34  2021-12-28T18:25:46.514Z  \n",
       "35  2021-12-28T19:50:39.899Z  \n",
       "36  2021-12-28T22:19:02.038Z  \n",
       "37  2021-12-28T22:51:38.124Z  \n",
       "38  2021-12-29T21:11:34.137Z  \n",
       "39  2021-12-29T21:49:50.307Z  \n",
       "40  2021-12-30T00:10:30.463Z  \n",
       "41  2021-12-30T00:18:18.179Z  \n",
       "42  2021-12-30T15:10:17.438Z  \n",
       "43  2021-12-30T15:22:00.696Z  \n",
       "44  2021-12-30T19:11:09.332Z  \n",
       "45  2021-12-30T22:10:59.828Z  \n",
       "46  2021-12-30T22:30:53.026Z  \n",
       "47  2021-12-30T22:57:37.951Z  \n",
       "48  2021-12-31T16:12:43.769Z  \n",
       "49  2022-01-01T00:12:45.881Z  "
      ]
     },
     "execution_count": 63,
     "metadata": {},
     "output_type": "execute_result"
    }
   ],
   "source": [
    "pd.DataFrame.from_dict(data)"
   ]
  },
  {
   "cell_type": "code",
   "execution_count": 59,
   "id": "66548282-2a06-490e-a855-62c40b19ceda",
   "metadata": {},
   "outputs": [
    {
     "name": "stderr",
     "output_type": "stream",
     "text": [
      "C:\\Users\\parth\\AppData\\Local\\Temp\\ipykernel_712\\609001746.py:1: DeprecationWarning: The 'body' parameter is deprecated for the 'index' API and will be removed in a future version. Instead use the 'document' parameter. See https://github.com/elastic/elasticsearch-py/issues/1698 for more information\n",
      "  es.index(index = \"gtest1\",id = 1,body = doc)\n"
     ]
    },
    {
     "ename": "RequestError",
     "evalue": "RequestError(400, 'mapper_parsing_exception', 'geo_point expected')",
     "output_type": "error",
     "traceback": [
      "\u001b[1;31m---------------------------------------------------------------------------\u001b[0m",
      "\u001b[1;31mRequestError\u001b[0m                              Traceback (most recent call last)",
      "Input \u001b[1;32mIn [59]\u001b[0m, in \u001b[0;36m<module>\u001b[1;34m\u001b[0m\n\u001b[1;32m----> 1\u001b[0m \u001b[43mes\u001b[49m\u001b[38;5;241;43m.\u001b[39;49m\u001b[43mindex\u001b[49m\u001b[43m(\u001b[49m\u001b[43mindex\u001b[49m\u001b[43m \u001b[49m\u001b[38;5;241;43m=\u001b[39;49m\u001b[43m \u001b[49m\u001b[38;5;124;43m\"\u001b[39;49m\u001b[38;5;124;43mgtest1\u001b[39;49m\u001b[38;5;124;43m\"\u001b[39;49m\u001b[43m,\u001b[49m\u001b[38;5;28;43mid\u001b[39;49m\u001b[43m \u001b[49m\u001b[38;5;241;43m=\u001b[39;49m\u001b[43m \u001b[49m\u001b[38;5;241;43m1\u001b[39;49m\u001b[43m,\u001b[49m\u001b[43mbody\u001b[49m\u001b[43m \u001b[49m\u001b[38;5;241;43m=\u001b[39;49m\u001b[43m \u001b[49m\u001b[43mdoc\u001b[49m\u001b[43m)\u001b[49m\n",
      "File \u001b[1;32m~\\AppData\\Local\\Programs\\Python\\Python310\\lib\\site-packages\\elasticsearch\\client\\utils.py:347\u001b[0m, in \u001b[0;36mquery_params.<locals>._wrapper.<locals>._wrapped\u001b[1;34m(*args, **kwargs)\u001b[0m\n\u001b[0;32m    345\u001b[0m     \u001b[38;5;28;01mif\u001b[39;00m p \u001b[38;5;129;01min\u001b[39;00m kwargs:\n\u001b[0;32m    346\u001b[0m         params[p] \u001b[38;5;241m=\u001b[39m kwargs\u001b[38;5;241m.\u001b[39mpop(p)\n\u001b[1;32m--> 347\u001b[0m \u001b[38;5;28;01mreturn\u001b[39;00m func(\u001b[38;5;241m*\u001b[39margs, params\u001b[38;5;241m=\u001b[39mparams, headers\u001b[38;5;241m=\u001b[39mheaders, \u001b[38;5;241m*\u001b[39m\u001b[38;5;241m*\u001b[39mkwargs)\n",
      "File \u001b[1;32m~\\AppData\\Local\\Programs\\Python\\Python310\\lib\\site-packages\\elasticsearch\\client\\__init__.py:413\u001b[0m, in \u001b[0;36mElasticsearch.index\u001b[1;34m(self, index, body, doc_type, id, params, headers)\u001b[0m\n\u001b[0;32m    410\u001b[0m \u001b[38;5;28;01mif\u001b[39;00m doc_type \u001b[38;5;129;01mis\u001b[39;00m \u001b[38;5;28;01mNone\u001b[39;00m:\n\u001b[0;32m    411\u001b[0m     doc_type \u001b[38;5;241m=\u001b[39m \u001b[38;5;124m\"\u001b[39m\u001b[38;5;124m_doc\u001b[39m\u001b[38;5;124m\"\u001b[39m\n\u001b[1;32m--> 413\u001b[0m \u001b[38;5;28;01mreturn\u001b[39;00m \u001b[38;5;28;43mself\u001b[39;49m\u001b[38;5;241;43m.\u001b[39;49m\u001b[43mtransport\u001b[49m\u001b[38;5;241;43m.\u001b[39;49m\u001b[43mperform_request\u001b[49m\u001b[43m(\u001b[49m\n\u001b[0;32m    414\u001b[0m \u001b[43m    \u001b[49m\u001b[38;5;124;43m\"\u001b[39;49m\u001b[38;5;124;43mPOST\u001b[39;49m\u001b[38;5;124;43m\"\u001b[39;49m\u001b[43m \u001b[49m\u001b[38;5;28;43;01mif\u001b[39;49;00m\u001b[43m \u001b[49m\u001b[38;5;28;43mid\u001b[39;49m\u001b[43m \u001b[49m\u001b[38;5;129;43;01min\u001b[39;49;00m\u001b[43m \u001b[49m\u001b[43mSKIP_IN_PATH\u001b[49m\u001b[43m \u001b[49m\u001b[38;5;28;43;01melse\u001b[39;49;00m\u001b[43m \u001b[49m\u001b[38;5;124;43m\"\u001b[39;49m\u001b[38;5;124;43mPUT\u001b[39;49m\u001b[38;5;124;43m\"\u001b[39;49m\u001b[43m,\u001b[49m\n\u001b[0;32m    415\u001b[0m \u001b[43m    \u001b[49m\u001b[43m_make_path\u001b[49m\u001b[43m(\u001b[49m\u001b[43mindex\u001b[49m\u001b[43m,\u001b[49m\u001b[43m \u001b[49m\u001b[43mdoc_type\u001b[49m\u001b[43m,\u001b[49m\u001b[43m \u001b[49m\u001b[38;5;28;43mid\u001b[39;49m\u001b[43m)\u001b[49m\u001b[43m,\u001b[49m\n\u001b[0;32m    416\u001b[0m \u001b[43m    \u001b[49m\u001b[43mparams\u001b[49m\u001b[38;5;241;43m=\u001b[39;49m\u001b[43mparams\u001b[49m\u001b[43m,\u001b[49m\n\u001b[0;32m    417\u001b[0m \u001b[43m    \u001b[49m\u001b[43mheaders\u001b[49m\u001b[38;5;241;43m=\u001b[39;49m\u001b[43mheaders\u001b[49m\u001b[43m,\u001b[49m\n\u001b[0;32m    418\u001b[0m \u001b[43m    \u001b[49m\u001b[43mbody\u001b[49m\u001b[38;5;241;43m=\u001b[39;49m\u001b[43mbody\u001b[49m\u001b[43m,\u001b[49m\n\u001b[0;32m    419\u001b[0m \u001b[43m\u001b[49m\u001b[43m)\u001b[49m\n",
      "File \u001b[1;32m~\\AppData\\Local\\Programs\\Python\\Python310\\lib\\site-packages\\elasticsearch\\transport.py:466\u001b[0m, in \u001b[0;36mTransport.perform_request\u001b[1;34m(self, method, url, headers, params, body)\u001b[0m\n\u001b[0;32m    464\u001b[0m             \u001b[38;5;28;01mraise\u001b[39;00m e\n\u001b[0;32m    465\u001b[0m     \u001b[38;5;28;01melse\u001b[39;00m:\n\u001b[1;32m--> 466\u001b[0m         \u001b[38;5;28;01mraise\u001b[39;00m e\n\u001b[0;32m    468\u001b[0m \u001b[38;5;28;01melse\u001b[39;00m:\n\u001b[0;32m    469\u001b[0m     \u001b[38;5;66;03m# connection didn't fail, confirm it's live status\u001b[39;00m\n\u001b[0;32m    470\u001b[0m     \u001b[38;5;28mself\u001b[39m\u001b[38;5;241m.\u001b[39mconnection_pool\u001b[38;5;241m.\u001b[39mmark_live(connection)\n",
      "File \u001b[1;32m~\\AppData\\Local\\Programs\\Python\\Python310\\lib\\site-packages\\elasticsearch\\transport.py:427\u001b[0m, in \u001b[0;36mTransport.perform_request\u001b[1;34m(self, method, url, headers, params, body)\u001b[0m\n\u001b[0;32m    424\u001b[0m connection \u001b[38;5;241m=\u001b[39m \u001b[38;5;28mself\u001b[39m\u001b[38;5;241m.\u001b[39mget_connection()\n\u001b[0;32m    426\u001b[0m \u001b[38;5;28;01mtry\u001b[39;00m:\n\u001b[1;32m--> 427\u001b[0m     status, headers_response, data \u001b[38;5;241m=\u001b[39m \u001b[43mconnection\u001b[49m\u001b[38;5;241;43m.\u001b[39;49m\u001b[43mperform_request\u001b[49m\u001b[43m(\u001b[49m\n\u001b[0;32m    428\u001b[0m \u001b[43m        \u001b[49m\u001b[43mmethod\u001b[49m\u001b[43m,\u001b[49m\n\u001b[0;32m    429\u001b[0m \u001b[43m        \u001b[49m\u001b[43murl\u001b[49m\u001b[43m,\u001b[49m\n\u001b[0;32m    430\u001b[0m \u001b[43m        \u001b[49m\u001b[43mparams\u001b[49m\u001b[43m,\u001b[49m\n\u001b[0;32m    431\u001b[0m \u001b[43m        \u001b[49m\u001b[43mbody\u001b[49m\u001b[43m,\u001b[49m\n\u001b[0;32m    432\u001b[0m \u001b[43m        \u001b[49m\u001b[43mheaders\u001b[49m\u001b[38;5;241;43m=\u001b[39;49m\u001b[43mheaders\u001b[49m\u001b[43m,\u001b[49m\n\u001b[0;32m    433\u001b[0m \u001b[43m        \u001b[49m\u001b[43mignore\u001b[49m\u001b[38;5;241;43m=\u001b[39;49m\u001b[43mignore\u001b[49m\u001b[43m,\u001b[49m\n\u001b[0;32m    434\u001b[0m \u001b[43m        \u001b[49m\u001b[43mtimeout\u001b[49m\u001b[38;5;241;43m=\u001b[39;49m\u001b[43mtimeout\u001b[49m\u001b[43m,\u001b[49m\n\u001b[0;32m    435\u001b[0m \u001b[43m    \u001b[49m\u001b[43m)\u001b[49m\n\u001b[0;32m    437\u001b[0m     \u001b[38;5;66;03m# Lowercase all the header names for consistency in accessing them.\u001b[39;00m\n\u001b[0;32m    438\u001b[0m     headers_response \u001b[38;5;241m=\u001b[39m {\n\u001b[0;32m    439\u001b[0m         header\u001b[38;5;241m.\u001b[39mlower(): value \u001b[38;5;28;01mfor\u001b[39;00m header, value \u001b[38;5;129;01min\u001b[39;00m headers_response\u001b[38;5;241m.\u001b[39mitems()\n\u001b[0;32m    440\u001b[0m     }\n",
      "File \u001b[1;32m~\\AppData\\Local\\Programs\\Python\\Python310\\lib\\site-packages\\elasticsearch\\connection\\http_urllib3.py:291\u001b[0m, in \u001b[0;36mUrllib3HttpConnection.perform_request\u001b[1;34m(self, method, url, params, body, timeout, ignore, headers)\u001b[0m\n\u001b[0;32m    287\u001b[0m \u001b[38;5;28;01mif\u001b[39;00m \u001b[38;5;129;01mnot\u001b[39;00m (\u001b[38;5;241m200\u001b[39m \u001b[38;5;241m<\u001b[39m\u001b[38;5;241m=\u001b[39m response\u001b[38;5;241m.\u001b[39mstatus \u001b[38;5;241m<\u001b[39m \u001b[38;5;241m300\u001b[39m) \u001b[38;5;129;01mand\u001b[39;00m response\u001b[38;5;241m.\u001b[39mstatus \u001b[38;5;129;01mnot\u001b[39;00m \u001b[38;5;129;01min\u001b[39;00m ignore:\n\u001b[0;32m    288\u001b[0m     \u001b[38;5;28mself\u001b[39m\u001b[38;5;241m.\u001b[39mlog_request_fail(\n\u001b[0;32m    289\u001b[0m         method, full_url, url, orig_body, duration, response\u001b[38;5;241m.\u001b[39mstatus, raw_data\n\u001b[0;32m    290\u001b[0m     )\n\u001b[1;32m--> 291\u001b[0m     \u001b[38;5;28;43mself\u001b[39;49m\u001b[38;5;241;43m.\u001b[39;49m\u001b[43m_raise_error\u001b[49m\u001b[43m(\u001b[49m\u001b[43mresponse\u001b[49m\u001b[38;5;241;43m.\u001b[39;49m\u001b[43mstatus\u001b[49m\u001b[43m,\u001b[49m\u001b[43m \u001b[49m\u001b[43mraw_data\u001b[49m\u001b[43m)\u001b[49m\n\u001b[0;32m    293\u001b[0m \u001b[38;5;28mself\u001b[39m\u001b[38;5;241m.\u001b[39mlog_request_success(\n\u001b[0;32m    294\u001b[0m     method, full_url, url, orig_body, response\u001b[38;5;241m.\u001b[39mstatus, raw_data, duration\n\u001b[0;32m    295\u001b[0m )\n\u001b[0;32m    297\u001b[0m \u001b[38;5;28;01mreturn\u001b[39;00m response\u001b[38;5;241m.\u001b[39mstatus, response_headers, raw_data\n",
      "File \u001b[1;32m~\\AppData\\Local\\Programs\\Python\\Python310\\lib\\site-packages\\elasticsearch\\connection\\base.py:328\u001b[0m, in \u001b[0;36mConnection._raise_error\u001b[1;34m(self, status_code, raw_data)\u001b[0m\n\u001b[0;32m    325\u001b[0m \u001b[38;5;28;01mexcept\u001b[39;00m (\u001b[38;5;167;01mValueError\u001b[39;00m, \u001b[38;5;167;01mTypeError\u001b[39;00m) \u001b[38;5;28;01mas\u001b[39;00m err:\n\u001b[0;32m    326\u001b[0m     logger\u001b[38;5;241m.\u001b[39mwarning(\u001b[38;5;124m\"\u001b[39m\u001b[38;5;124mUndecodable raw error response from server: \u001b[39m\u001b[38;5;132;01m%s\u001b[39;00m\u001b[38;5;124m\"\u001b[39m, err)\n\u001b[1;32m--> 328\u001b[0m \u001b[38;5;28;01mraise\u001b[39;00m HTTP_EXCEPTIONS\u001b[38;5;241m.\u001b[39mget(status_code, TransportError)(\n\u001b[0;32m    329\u001b[0m     status_code, error_message, additional_info\n\u001b[0;32m    330\u001b[0m )\n",
      "\u001b[1;31mRequestError\u001b[0m: RequestError(400, 'mapper_parsing_exception', 'geo_point expected')"
     ]
    }
   ],
   "source": [
    "es.index(index = \"gtest1\",id = 1,body = doc)"
   ]
  },
  {
   "cell_type": "code",
   "execution_count": 58,
   "id": "2304fbbd-ef23-4c7d-8a25-80a0fc8cb395",
   "metadata": {},
   "outputs": [
    {
     "data": {
      "text/plain": [
       "{'gtest1': {'mappings': {'document': {'properties': {'address': {'type': 'text',\n",
       "      'fields': {'keyword': {'type': 'keyword', 'ignore_above': 256}}},\n",
       "     'end_timestamp': {'type': 'date'},\n",
       "     'location_latitude': {'type': 'geo_point'},\n",
       "     'location_longitude': {'type': 'geo_point'},\n",
       "     'location_name': {'type': 'text',\n",
       "      'fields': {'keyword': {'type': 'keyword', 'ignore_above': 256}}},\n",
       "     'start_timestamp': {'type': 'date'}}}}}}"
      ]
     },
     "execution_count": 58,
     "metadata": {},
     "output_type": "execute_result"
    }
   ],
   "source": [
    "es.indices.get_mapping(index = 'gtest1',doc_type=\"document\",include_type_name=True)"
   ]
  },
  {
   "cell_type": "markdown",
   "id": "cecd49d9-5579-46a7-8f2b-abf9b924df7a",
   "metadata": {},
   "source": [
    "#### Important Note\n",
    "\n",
    "We see that es is not taking longitude and latitude as geopoint locations, one way to crrect this is to define mappings ourselves\n",
    "<li> Delete the index </li>\n",
    "<li> define mappings using <a>put_mapping method</a></li>"
   ]
  },
  {
   "cell_type": "code",
   "execution_count": 56,
   "id": "ac39d7b6-aeac-4666-9f55-a438fa4a6a9a",
   "metadata": {},
   "outputs": [
    {
     "data": {
      "text/plain": [
       "{'acknowledged': True}"
      ]
     },
     "execution_count": 56,
     "metadata": {},
     "output_type": "execute_result"
    }
   ],
   "source": [
    "es.indices.put_mapping(\n",
    "    index = \"gtest1\",\n",
    "    doc_type = \"document\",\n",
    "    include_type_name=True,\n",
    "    body = {'properties': \n",
    "            {'address': \n",
    "             {'type': 'text',\n",
    "              'fields': \n",
    "                      {'keyword': \n",
    "                         {'type': 'keyword', 'ignore_above': 256}}},\n",
    "             'end_timestamp': {'type': 'date'},\n",
    "             'location_latitude': {'type': 'geo_point'},\n",
    "             'location_longitude': {'type': 'geo_point'},\n",
    "             'location_name': {'type': 'text',\n",
    "              'fields': {'keyword': {'type': 'keyword', 'ignore_above': 256}}},\n",
    "             'start_timestamp': {'type': 'date'}}})"
   ]
  },
  {
   "cell_type": "code",
   "execution_count": 20,
   "id": "bd1bc3f9-2fc1-4a26-af0f-399c514d7cc0",
   "metadata": {},
   "outputs": [],
   "source": [
    "def generator(df2,database_name,table_name,id_column):\n",
    "    for c,line in enumerate(df2):\n",
    "        if(line.get(\"timelineObjects\").get(\"placeVisit\")!=None):\n",
    "            print(c)\n",
    "\n",
    "            yield{\n",
    "                '_index' : database_name,\n",
    "                '_type' : table_name,\n",
    "                '_id': line.get(id_column),\n",
    "                '_source': {\n",
    "\n",
    "                        'location_latitude':line.get(\"timelineObjects\").get(\"placeVisit\").get(\"location\").get(\"latitudeE7\"),\n",
    "                        'location_longitude':line.get(\"timelineObjects\").get(\"placeVisit\").get(\"location\").get(\"longitudeE7\"),\n",
    "                        'address':line.get(\"timelineObjects\").get(\"placeVisit\").get(\"location\").get(\"address\"),\n",
    "                        'location_name':line.get(\"timelineObjects\").get(\"placeVisit\").get(\"location\").get(\"name\"),\n",
    "                        'start_timestamp':line.get(\"timelineObjects\").get(\"placeVisit\").get(\"duration\").get(\"startTimestamp\"),\n",
    "                        'end_timestamp':line.get(\"timelineObjects\").get(\"placeVisit\").get(\"duration\").get(\"endTimestamp\")\n",
    "                        # 'distance_meters':line.get(\"timelineObjects\",['No Data']).get(\"activitySegment\",['No Data']).get(\"waypointPath\",['No Data']).get(\"distanceMeters\",['No Data']),\n",
    "                        # 'travel_mode':line.get(\"timelineObjects\",['No Data']).get(\"activitySegment\",['No Data']).get(\"waypointPath\",['No Data']).get(\"travelMode\",['No Data'])                                                                                                \n",
    "                    # get returns the value of a key\n",
    "\n",
    "                }\n",
    "            }\n",
    "    # raise StopIteration\n",
    "    "
   ]
  },
  {
   "cell_type": "code",
   "execution_count": 21,
   "id": "f1593834-73a6-4a0a-83f5-a1156cc183b6",
   "metadata": {},
   "outputs": [],
   "source": [
    "gen = generator(df2,\"g_test\",\"glocation\",\"id\")"
   ]
  },
  {
   "cell_type": "code",
   "execution_count": 22,
   "id": "78ef0362-35eb-4d4f-bb65-08bf7214aa7e",
   "metadata": {},
   "outputs": [
    {
     "name": "stdout",
     "output_type": "stream",
     "text": [
      "1\n"
     ]
    },
    {
     "data": {
      "text/plain": [
       "{'_index': 'g_test',\n",
       " '_type': 'glocation',\n",
       " '_id': 1,\n",
       " '_source': {'location_latitude': 406254253,\n",
       "  'location_longitude': -740240437,\n",
       "  'address': '8007 5th Ave\\nBrooklyn, NY 11209\\nUSA',\n",
       "  'location_name': 'Farmacon Pharmacy',\n",
       "  'start_timestamp': '2021-12-01T20:04:06.189Z',\n",
       "  'end_timestamp': '2021-12-01T20:10:13.193Z'}}"
      ]
     },
     "execution_count": 22,
     "metadata": {},
     "output_type": "execute_result"
    }
   ],
   "source": [
    "next(gen)"
   ]
  },
  {
   "cell_type": "code",
   "execution_count": 23,
   "id": "eea05a89-ae3e-4b5a-a02e-884ca635b087",
   "metadata": {},
   "outputs": [
    {
     "data": {
      "text/plain": [
       "{'error': {'root_cause': [{'type': 'resource_already_exists_exception',\n",
       "    'reason': 'index [g_test2/aO_nIgMrRzO8mx09rkaqfQ] already exists',\n",
       "    'index_uuid': 'aO_nIgMrRzO8mx09rkaqfQ',\n",
       "    'index': 'g_test2'}],\n",
       "  'type': 'resource_already_exists_exception',\n",
       "  'reason': 'index [g_test2/aO_nIgMrRzO8mx09rkaqfQ] already exists',\n",
       "  'index_uuid': 'aO_nIgMrRzO8mx09rkaqfQ',\n",
       "  'index': 'g_test2'},\n",
       " 'status': 400}"
      ]
     },
     "execution_count": 23,
     "metadata": {},
     "output_type": "execute_result"
    }
   ],
   "source": [
    "es.indices.create(index=\"g_test2\",ignore = 400)"
   ]
  },
  {
   "cell_type": "code",
   "execution_count": 24,
   "id": "90c4c480-9a0e-4117-a4fe-a067a9e7a9bd",
   "metadata": {},
   "outputs": [
    {
     "name": "stdout",
     "output_type": "stream",
     "text": [
      "1\n",
      "3\n",
      "4\n",
      "5\n",
      "6\n",
      "8\n",
      "11\n",
      "13\n",
      "15\n",
      "17\n",
      "19\n",
      "23\n",
      "25\n",
      "27\n",
      "29\n",
      "31\n",
      "33\n",
      "35\n",
      "37\n",
      "39\n",
      "41\n",
      "44\n",
      "48\n",
      "50\n",
      "52\n",
      "55\n",
      "57\n",
      "59\n",
      "61\n",
      "63\n",
      "65\n",
      "67\n",
      "70\n",
      "72\n",
      "76\n",
      "78\n",
      "80\n",
      "82\n",
      "84\n",
      "86\n",
      "88\n",
      "90\n",
      "93\n",
      "95\n",
      "97\n",
      "99\n",
      "101\n",
      "103\n",
      "106\n",
      "108\n",
      "Working\n"
     ]
    },
    {
     "name": "stderr",
     "output_type": "stream",
     "text": [
      "C:\\Users\\parth\\AppData\\Local\\Programs\\Python\\Python310\\lib\\site-packages\\elasticsearch\\connection\\base.py:200: ElasticsearchWarning: [types removal] Specifying types in bulk requests is deprecated.\n",
      "  warnings.warn(message, category=ElasticsearchWarning)\n"
     ]
    }
   ],
   "source": [
    "try:\n",
    "    res = helpers.bulk(es,generator(df2,\"g_test2\",\"glocation\",\"id\"))\n",
    "    print(\"Working\")\n",
    "except Exception as e:\n",
    "    print(\"done\",e)\n"
   ]
  },
  {
   "cell_type": "code",
   "execution_count": null,
   "id": "c6b85d33-1cbf-4473-96fb-55cee45619b3",
   "metadata": {},
   "outputs": [],
   "source": []
  },
  {
   "cell_type": "code",
   "execution_count": 13,
   "id": "1e41ed42-da89-4b02-8460-166c3479f1b4",
   "metadata": {},
   "outputs": [],
   "source": [
    "# Database setup"
   ]
  },
  {
   "cell_type": "code",
   "execution_count": 14,
   "id": "dad90dcb-49e4-4803-8cee-7c1b538061ed",
   "metadata": {},
   "outputs": [
    {
     "name": "stderr",
     "output_type": "stream",
     "text": [
      "C:\\Users\\parth\\AppData\\Local\\Programs\\Python\\Python310\\lib\\site-packages\\elasticsearch\\connection\\base.py:200: ElasticsearchWarning: Elasticsearch built-in security features are not enabled. Without authentication, your cluster could be accessible to anyone. See https://www.elastic.co/guide/en/elasticsearch/reference/7.16/security-minimal-setup.html to enable security.\n",
      "  warnings.warn(message, category=ElasticsearchWarning)\n"
     ]
    },
    {
     "data": {
      "text/plain": [
       "{'acknowledged': True, 'shards_acknowledged': True, 'index': 'mydatabasename'}"
      ]
     },
     "execution_count": 14,
     "metadata": {},
     "output_type": "execute_result"
    }
   ],
   "source": [
    "es.indices.create(index = \"mydatabasename\",ignore = 400)"
   ]
  },
  {
   "cell_type": "code",
   "execution_count": 123,
   "id": "b0514fb6-2ca2-4e46-8385-918d1497dff0",
   "metadata": {},
   "outputs": [
    {
     "name": "stdout",
     "output_type": "stream",
     "text": [
      ".kibana-event-log-7.16.3-000003\n",
      "g_test\n",
      "icecream_kaggle\n",
      ".async-search\n",
      ".kibana_7.16.3_001\n",
      "greencan_demo\n",
      ".kibana-event-log-7.16.3-000001\n",
      ".kibana_task_manager_7.16.3_001\n",
      ".apm-custom-link\n",
      ".tasks\n",
      ".apm-agent-configuration\n",
      "stocks2020to2021\n",
      "netflix_sample\n",
      ".kibana-event-log-7.16.3-000002\n",
      "person\n"
     ]
    },
    {
     "name": "stderr",
     "output_type": "stream",
     "text": [
      "C:\\Users\\parth\\AppData\\Local\\Temp\\ipykernel_31560\\516184771.py:1: DeprecationWarning: Using positional arguments for APIs is deprecated and will be disabled in 8.0.0. Instead use only keyword arguments for all APIs. See https://github.com/elastic/elasticsearch-py/issues/1698 for more information\n",
      "  res = es.indices.get_alias(\"*\")\n",
      "C:\\Users\\parth\\AppData\\Local\\Programs\\Python\\Python310\\lib\\site-packages\\elasticsearch\\connection\\base.py:200: ElasticsearchWarning: this request accesses system indices: [.async-search, .kibana_7.16.3_001, .kibana_task_manager_7.16.3_001, .apm-custom-link, .tasks, .apm-agent-configuration], but in a future major version, direct access to system indices will be prevented by default\n",
      "  warnings.warn(message, category=ElasticsearchWarning)\n"
     ]
    }
   ],
   "source": [
    "res = es.indices.get_alias(\"*\")\n",
    "for name in res:\n",
    "    print(name)"
   ]
  },
  {
   "cell_type": "markdown",
   "id": "0c6774c0-62ff-4ef8-bbe6-d2f48a6c8224",
   "metadata": {},
   "source": [
    "## Inserting data into kibana"
   ]
  },
  {
   "cell_type": "code",
   "execution_count": 19,
   "id": "29cf4546-4eb2-4594-a6e9-57774a9be74b",
   "metadata": {},
   "outputs": [],
   "source": [
    "record1 = {\n",
    "    \"name\" : \"Parth\",\n",
    "    \"age\" :26,\n",
    "    \n",
    "    \n",
    "}\n",
    "record2 = {\n",
    "    \"name\" : \"Samarth\",\n",
    "    \"age\" :20,\n",
    "    \n",
    "    \n",
    "}"
   ]
  },
  {
   "cell_type": "code",
   "execution_count": 20,
   "id": "ee97ad29-bce8-459b-a3ba-2958ad913dcf",
   "metadata": {},
   "outputs": [
    {
     "name": "stderr",
     "output_type": "stream",
     "text": [
      "C:\\Users\\parth\\AppData\\Local\\Programs\\Python\\Python310\\lib\\site-packages\\elasticsearch\\connection\\base.py:200: ElasticsearchWarning: Elasticsearch built-in security features are not enabled. Without authentication, your cluster could be accessible to anyone. See https://www.elastic.co/guide/en/elasticsearch/reference/7.16/security-minimal-setup.html to enable security.\n",
      "  warnings.warn(message, category=ElasticsearchWarning)\n"
     ]
    },
    {
     "data": {
      "text/plain": [
       "{'acknowledged': True, 'shards_acknowledged': True, 'index': 'person'}"
      ]
     },
     "execution_count": 20,
     "metadata": {},
     "output_type": "execute_result"
    }
   ],
   "source": [
    "es.indices.create(index=\"person\",ignore = 400)"
   ]
  },
  {
   "cell_type": "code",
   "execution_count": 17,
   "id": "ccffb1de-34ea-427e-8fff-4bdfdecf8207",
   "metadata": {},
   "outputs": [
    {
     "name": "stderr",
     "output_type": "stream",
     "text": [
      "C:\\Users\\parth\\AppData\\Local\\Temp\\ipykernel_5688\\2801456637.py:1: DeprecationWarning: The 'body' parameter is deprecated for the 'index' API and will be removed in a future version. Instead use the 'document' parameter. See https://github.com/elastic/elasticsearch-py/issues/1698 for more information\n",
      "  resp = es.index(index = \"g_test\",doc_type='glocation',body = df2[0])\n",
      "C:\\Users\\parth\\AppData\\Local\\Programs\\Python\\Python310\\lib\\site-packages\\elasticsearch\\connection\\base.py:200: ElasticsearchWarning: [types removal] Specifying types in document index requests is deprecated, use the typeless endpoints instead (/{index}/_doc/{id}, /{index}/_doc, or /{index}/_create/{id}).\n",
      "  warnings.warn(message, category=ElasticsearchWarning)\n"
     ]
    }
   ],
   "source": [
    "resp = es.index(index = \"g_test\",doc_type='glocation',body = df2[0])"
   ]
  },
  {
   "cell_type": "code",
   "execution_count": 19,
   "id": "d8d19146-4ed4-4389-b2e0-baf8b65eda7e",
   "metadata": {},
   "outputs": [
    {
     "name": "stderr",
     "output_type": "stream",
     "text": [
      "C:\\Users\\parth\\AppData\\Local\\Temp\\ipykernel_5688\\2628710241.py:2: DeprecationWarning: The 'body' parameter is deprecated for the 'index' API and will be removed in a future version. Instead use the 'document' parameter. See https://github.com/elastic/elasticsearch-py/issues/1698 for more information\n",
      "  es.index(index = \"g_test2\",doc_type='glocation',body = df2[i])\n"
     ]
    }
   ],
   "source": [
    "for i in range(len(df)):\n",
    "    es.index(index = \"g_test2\",doc_type='glocation',body = df2[i])\n",
    "    "
   ]
  },
  {
   "cell_type": "code",
   "execution_count": 18,
   "id": "7c91c06e-f718-4448-b254-e65a4d3a158f",
   "metadata": {},
   "outputs": [
    {
     "data": {
      "text/plain": [
       "{'_index': 'g_test',\n",
       " '_type': 'glocation',\n",
       " '_id': '8gPnbIAB-WKrEUGjvlT_',\n",
       " '_version': 1,\n",
       " 'result': 'created',\n",
       " '_shards': {'total': 2, 'successful': 1, 'failed': 0},\n",
       " '_seq_no': 1,\n",
       " '_primary_term': 2}"
      ]
     },
     "execution_count": 18,
     "metadata": {},
     "output_type": "execute_result"
    }
   ],
   "source": [
    "resp"
   ]
  },
  {
   "cell_type": "code",
   "execution_count": 141,
   "id": "14570a31-7b17-49fb-a16c-deb560a05b7e",
   "metadata": {},
   "outputs": [
    {
     "name": "stderr",
     "output_type": "stream",
     "text": [
      "C:\\Users\\parth\\AppData\\Local\\Temp\\ipykernel_31560\\1110477524.py:7: DeprecationWarning: The 'body' parameter is deprecated for the 'search' API and will be removed in a future version. Instead use API parameters directly. See https://github.com/elastic/elasticsearch-py/issues/1698 for more information\n",
      "  res = es.search(index='g_test',body = query   )\n"
     ]
    }
   ],
   "source": [
    "query = {\n",
    "    \"query\" : {\n",
    "        \"match_all\":{}\n",
    "    }\n",
    "}\n",
    "    \n",
    "res = es.search(index='g_test',body = query   )"
   ]
  },
  {
   "cell_type": "code",
   "execution_count": null,
   "id": "d86e7f0c-a2dc-44c1-865a-21b89fbe7023",
   "metadata": {},
   "outputs": [],
   "source": []
  }
 ],
 "metadata": {
  "kernelspec": {
   "display_name": "Python 3 (ipykernel)",
   "language": "python",
   "name": "python3"
  },
  "language_info": {
   "codemirror_mode": {
    "name": "ipython",
    "version": 3
   },
   "file_extension": ".py",
   "mimetype": "text/x-python",
   "name": "python",
   "nbconvert_exporter": "python",
   "pygments_lexer": "ipython3",
   "version": "3.10.1"
  }
 },
 "nbformat": 4,
 "nbformat_minor": 5
}
