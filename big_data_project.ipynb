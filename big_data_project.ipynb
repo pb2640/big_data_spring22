{
  "nbformat": 4,
  "nbformat_minor": 0,
  "metadata": {
    "colab": {
      "name": "big_data_project.ipynb",
      "provenance": [],
      "collapsed_sections": [],
      "authorship_tag": "ABX9TyOqM3Y75Og2Hv27ymeEn0gW",
      "include_colab_link": true
    },
    "kernelspec": {
      "name": "python3",
      "display_name": "Python 3"
    },
    "language_info": {
      "name": "python"
    }
  },
  "cells": [
    {
      "cell_type": "markdown",
      "metadata": {
        "id": "view-in-github",
        "colab_type": "text"
      },
      "source": [
        "<a href=\"https://colab.research.google.com/github/pb2640/big_data_spring22/blob/parth-elk-transform/big_data_project.ipynb\" target=\"_parent\"><img src=\"https://colab.research.google.com/assets/colab-badge.svg\" alt=\"Open In Colab\"/></a>"
      ]
    },
    {
      "cell_type": "code",
      "source": [
        "### Doing some basic installations\n",
        "\n",
        "!pip install pyspark"
      ],
      "metadata": {
        "colab": {
          "base_uri": "https://localhost:8080/"
        },
        "id": "8cD3c2YmxKgc",
        "outputId": "b212d02c-f4ad-47c7-8b6f-47d3523c67d0"
      },
      "execution_count": 23,
      "outputs": [
        {
          "output_type": "stream",
          "name": "stdout",
          "text": [
            "Requirement already satisfied: pyspark in /usr/local/lib/python3.7/dist-packages (3.1.2)\n",
            "Requirement already satisfied: py4j==0.10.9 in /usr/local/lib/python3.7/dist-packages (from pyspark) (0.10.9)\n"
          ]
        }
      ]
    },
    {
      "cell_type": "code",
      "source": [
        "!conda create -n sparknlp python=3.7 -y"
      ],
      "metadata": {
        "colab": {
          "base_uri": "https://localhost:8080/"
        },
        "id": "zVwVwFM2vUUK",
        "outputId": "dae78322-6a3c-47e5-8aa4-610432ff40d3"
      },
      "execution_count": 3,
      "outputs": [
        {
          "output_type": "stream",
          "name": "stdout",
          "text": [
            "/bin/bash: conda: command not found\n"
          ]
        }
      ]
    },
    {
      "cell_type": "code",
      "source": [
        " !pip install spark-nlp==3.4.4 pyspark==3.1.2 jupyter"
      ],
      "metadata": {
        "colab": {
          "base_uri": "https://localhost:8080/"
        },
        "id": "Nw0oo_hqvcta",
        "outputId": "bdec0cd7-37a1-49a4-9b77-829eb85e5188"
      },
      "execution_count": 4,
      "outputs": [
        {
          "output_type": "stream",
          "name": "stdout",
          "text": [
            "Collecting spark-nlp==3.4.4\n",
            "  Downloading spark_nlp-3.4.4-py2.py3-none-any.whl (145 kB)\n",
            "\u001b[K     |████████████████████████████████| 145 kB 4.1 MB/s \n",
            "\u001b[?25hCollecting pyspark==3.1.2\n",
            "  Downloading pyspark-3.1.2.tar.gz (212.4 MB)\n",
            "\u001b[K     |████████████████████████████████| 212.4 MB 68 kB/s \n",
            "\u001b[?25hRequirement already satisfied: jupyter in /usr/local/lib/python3.7/dist-packages (1.0.0)\n",
            "Collecting py4j==0.10.9\n",
            "  Downloading py4j-0.10.9-py2.py3-none-any.whl (198 kB)\n",
            "\u001b[K     |████████████████████████████████| 198 kB 59.1 MB/s \n",
            "\u001b[?25hRequirement already satisfied: notebook in /usr/local/lib/python3.7/dist-packages (from jupyter) (5.3.1)\n",
            "Requirement already satisfied: ipywidgets in /usr/local/lib/python3.7/dist-packages (from jupyter) (7.7.0)\n",
            "Requirement already satisfied: nbconvert in /usr/local/lib/python3.7/dist-packages (from jupyter) (5.6.1)\n",
            "Requirement already satisfied: jupyter-console in /usr/local/lib/python3.7/dist-packages (from jupyter) (5.2.0)\n",
            "Requirement already satisfied: ipykernel in /usr/local/lib/python3.7/dist-packages (from jupyter) (4.10.1)\n",
            "Requirement already satisfied: qtconsole in /usr/local/lib/python3.7/dist-packages (from jupyter) (5.3.0)\n",
            "Requirement already satisfied: ipython>=4.0.0 in /usr/local/lib/python3.7/dist-packages (from ipykernel->jupyter) (5.5.0)\n",
            "Requirement already satisfied: jupyter-client in /usr/local/lib/python3.7/dist-packages (from ipykernel->jupyter) (5.3.5)\n",
            "Requirement already satisfied: traitlets>=4.1.0 in /usr/local/lib/python3.7/dist-packages (from ipykernel->jupyter) (5.1.1)\n",
            "Requirement already satisfied: tornado>=4.0 in /usr/local/lib/python3.7/dist-packages (from ipykernel->jupyter) (5.1.1)\n",
            "Requirement already satisfied: simplegeneric>0.8 in /usr/local/lib/python3.7/dist-packages (from ipython>=4.0.0->ipykernel->jupyter) (0.8.1)\n",
            "Requirement already satisfied: prompt-toolkit<2.0.0,>=1.0.4 in /usr/local/lib/python3.7/dist-packages (from ipython>=4.0.0->ipykernel->jupyter) (1.0.18)\n",
            "Requirement already satisfied: pexpect in /usr/local/lib/python3.7/dist-packages (from ipython>=4.0.0->ipykernel->jupyter) (4.8.0)\n",
            "Requirement already satisfied: setuptools>=18.5 in /usr/local/lib/python3.7/dist-packages (from ipython>=4.0.0->ipykernel->jupyter) (57.4.0)\n",
            "Requirement already satisfied: decorator in /usr/local/lib/python3.7/dist-packages (from ipython>=4.0.0->ipykernel->jupyter) (4.4.2)\n",
            "Requirement already satisfied: pickleshare in /usr/local/lib/python3.7/dist-packages (from ipython>=4.0.0->ipykernel->jupyter) (0.7.5)\n",
            "Requirement already satisfied: pygments in /usr/local/lib/python3.7/dist-packages (from ipython>=4.0.0->ipykernel->jupyter) (2.6.1)\n",
            "Requirement already satisfied: wcwidth in /usr/local/lib/python3.7/dist-packages (from prompt-toolkit<2.0.0,>=1.0.4->ipython>=4.0.0->ipykernel->jupyter) (0.2.5)\n",
            "Requirement already satisfied: six>=1.9.0 in /usr/local/lib/python3.7/dist-packages (from prompt-toolkit<2.0.0,>=1.0.4->ipython>=4.0.0->ipykernel->jupyter) (1.15.0)\n",
            "Requirement already satisfied: jupyterlab-widgets>=1.0.0 in /usr/local/lib/python3.7/dist-packages (from ipywidgets->jupyter) (1.1.0)\n",
            "Requirement already satisfied: ipython-genutils~=0.2.0 in /usr/local/lib/python3.7/dist-packages (from ipywidgets->jupyter) (0.2.0)\n",
            "Requirement already satisfied: nbformat>=4.2.0 in /usr/local/lib/python3.7/dist-packages (from ipywidgets->jupyter) (5.3.0)\n",
            "Requirement already satisfied: widgetsnbextension~=3.6.0 in /usr/local/lib/python3.7/dist-packages (from ipywidgets->jupyter) (3.6.0)\n",
            "Requirement already satisfied: fastjsonschema in /usr/local/lib/python3.7/dist-packages (from nbformat>=4.2.0->ipywidgets->jupyter) (2.15.3)\n",
            "Requirement already satisfied: jupyter-core in /usr/local/lib/python3.7/dist-packages (from nbformat>=4.2.0->ipywidgets->jupyter) (4.10.0)\n",
            "Requirement already satisfied: jsonschema>=2.6 in /usr/local/lib/python3.7/dist-packages (from nbformat>=4.2.0->ipywidgets->jupyter) (4.3.3)\n",
            "Requirement already satisfied: typing-extensions in /usr/local/lib/python3.7/dist-packages (from jsonschema>=2.6->nbformat>=4.2.0->ipywidgets->jupyter) (4.2.0)\n",
            "Requirement already satisfied: importlib-resources>=1.4.0 in /usr/local/lib/python3.7/dist-packages (from jsonschema>=2.6->nbformat>=4.2.0->ipywidgets->jupyter) (5.7.1)\n",
            "Requirement already satisfied: importlib-metadata in /usr/local/lib/python3.7/dist-packages (from jsonschema>=2.6->nbformat>=4.2.0->ipywidgets->jupyter) (4.11.3)\n",
            "Requirement already satisfied: attrs>=17.4.0 in /usr/local/lib/python3.7/dist-packages (from jsonschema>=2.6->nbformat>=4.2.0->ipywidgets->jupyter) (21.4.0)\n",
            "Requirement already satisfied: pyrsistent!=0.17.0,!=0.17.1,!=0.17.2,>=0.14.0 in /usr/local/lib/python3.7/dist-packages (from jsonschema>=2.6->nbformat>=4.2.0->ipywidgets->jupyter) (0.18.1)\n",
            "Requirement already satisfied: zipp>=3.1.0 in /usr/local/lib/python3.7/dist-packages (from importlib-resources>=1.4.0->jsonschema>=2.6->nbformat>=4.2.0->ipywidgets->jupyter) (3.8.0)\n",
            "Requirement already satisfied: Send2Trash in /usr/local/lib/python3.7/dist-packages (from notebook->jupyter) (1.8.0)\n",
            "Requirement already satisfied: jinja2 in /usr/local/lib/python3.7/dist-packages (from notebook->jupyter) (2.11.3)\n",
            "Requirement already satisfied: terminado>=0.8.1 in /usr/local/lib/python3.7/dist-packages (from notebook->jupyter) (0.13.3)\n",
            "Requirement already satisfied: pyzmq>=13 in /usr/local/lib/python3.7/dist-packages (from jupyter-client->ipykernel->jupyter) (22.3.0)\n",
            "Requirement already satisfied: python-dateutil>=2.1 in /usr/local/lib/python3.7/dist-packages (from jupyter-client->ipykernel->jupyter) (2.8.2)\n",
            "Requirement already satisfied: ptyprocess in /usr/local/lib/python3.7/dist-packages (from terminado>=0.8.1->notebook->jupyter) (0.7.0)\n",
            "Requirement already satisfied: MarkupSafe>=0.23 in /usr/local/lib/python3.7/dist-packages (from jinja2->notebook->jupyter) (2.0.1)\n",
            "Requirement already satisfied: entrypoints>=0.2.2 in /usr/local/lib/python3.7/dist-packages (from nbconvert->jupyter) (0.4)\n",
            "Requirement already satisfied: mistune<2,>=0.8.1 in /usr/local/lib/python3.7/dist-packages (from nbconvert->jupyter) (0.8.4)\n",
            "Requirement already satisfied: bleach in /usr/local/lib/python3.7/dist-packages (from nbconvert->jupyter) (5.0.0)\n",
            "Requirement already satisfied: testpath in /usr/local/lib/python3.7/dist-packages (from nbconvert->jupyter) (0.6.0)\n",
            "Requirement already satisfied: defusedxml in /usr/local/lib/python3.7/dist-packages (from nbconvert->jupyter) (0.7.1)\n",
            "Requirement already satisfied: pandocfilters>=1.4.1 in /usr/local/lib/python3.7/dist-packages (from nbconvert->jupyter) (1.5.0)\n",
            "Requirement already satisfied: webencodings in /usr/local/lib/python3.7/dist-packages (from bleach->nbconvert->jupyter) (0.5.1)\n",
            "Requirement already satisfied: qtpy>=2.0.1 in /usr/local/lib/python3.7/dist-packages (from qtconsole->jupyter) (2.1.0)\n",
            "Requirement already satisfied: packaging in /usr/local/lib/python3.7/dist-packages (from qtpy>=2.0.1->qtconsole->jupyter) (21.3)\n",
            "Requirement already satisfied: pyparsing!=3.0.5,>=2.0.2 in /usr/local/lib/python3.7/dist-packages (from packaging->qtpy>=2.0.1->qtconsole->jupyter) (3.0.8)\n",
            "Building wheels for collected packages: pyspark\n",
            "  Building wheel for pyspark (setup.py) ... \u001b[?25l\u001b[?25hdone\n",
            "  Created wheel for pyspark: filename=pyspark-3.1.2-py2.py3-none-any.whl size=212880769 sha256=4c2d07c1a47e6abfb67301ce26da6091cb8e9496bb8a85ea4a635844654bdf30\n",
            "  Stored in directory: /root/.cache/pip/wheels/a5/0a/c1/9561f6fecb759579a7d863dcd846daaa95f598744e71b02c77\n",
            "Successfully built pyspark\n",
            "Installing collected packages: py4j, spark-nlp, pyspark\n",
            "Successfully installed py4j-0.10.9 pyspark-3.1.2 spark-nlp-3.4.4\n"
          ]
        }
      ]
    },
    {
      "cell_type": "code",
      "source": [
        "#mounting my gdrive so that I can use the files directly (uploading thru upload is super slow.)\n",
        "from google.colab import drive\n",
        "\n",
        "drive.mount(\"/content/drive/\")\n"
      ],
      "metadata": {
        "colab": {
          "base_uri": "https://localhost:8080/"
        },
        "id": "tOFjvxQE6r-g",
        "outputId": "5bcb5427-f21d-420e-807e-d6fdbac15e1c"
      },
      "execution_count": 65,
      "outputs": [
        {
          "output_type": "stream",
          "name": "stdout",
          "text": [
            "Mounted at /content/drive/\n"
          ]
        }
      ]
    },
    {
      "cell_type": "code",
      "source": [
        "news_df.show(5)"
      ],
      "metadata": {
        "colab": {
          "base_uri": "https://localhost:8080/"
        },
        "id": "dc7P1HGI9ywD",
        "outputId": "0ea41f38-69f7-4230-b883-f035b792bfa2"
      },
      "execution_count": 68,
      "outputs": [
        {
          "output_type": "stream",
          "name": "stdout",
          "text": [
            "+----------+--------------------+-------+--------+--------------------+--------------------+-------+------------------+--------------------+\n",
            "|      Date|               Title|    Lat|     Lon|            Location|            GeoCoord|GeoType|           DocTone|      ContextualText|\n",
            "+----------+--------------------+-------+--------+--------------------+--------------------+-------+------------------+--------------------+\n",
            "|2020-01-22|S & P 500 , Nasda...|40.7068|-74.0113|New York Stock Ex...|POINT(-74.0113 40...|      3| -1.96078431372549|reuters the s p 5...|\n",
            "|2020-03-25|Some local leader...|44.2795|-73.9799|Lake Placid, New ...|POINT(-73.9799 44...|      3|-0.411522633744856|this current emer...|\n",
            "|2020-03-10|Coronavirus clust...|42.1497|-74.9384|New York, United ...|POINT(-74.9384 42...|      2| -3.69668246445498|down large events...|\n",
            "|2020-03-10|The Latest : Slov...|40.9115|-73.7824|New Rochelle, New...|POINT(-73.7824 40...|      3| -3.21167883211679|guard troops will...|\n",
            "|2020-03-10|Virus disrupts It...|42.1497|-74.9384|New York, United ...|POINT(-74.9384 42...|      2| -4.82708933717579|for the virus at ...|\n",
            "+----------+--------------------+-------+--------+--------------------+--------------------+-------+------------------+--------------------+\n",
            "only showing top 5 rows\n",
            "\n"
          ]
        }
      ]
    },
    {
      "cell_type": "code",
      "source": [
        "path = \"/content/drive/MyDrive/data/sample_data.csv\"\n",
        "news_df = spark.read.csv(path, header=True)\n"
      ],
      "metadata": {
        "id": "kSoWl5sa9b5I"
      },
      "execution_count": 67,
      "outputs": []
    },
    {
      "cell_type": "code",
      "source": [
        "### Total new articles \n",
        "news_df.count()"
      ],
      "metadata": {
        "colab": {
          "base_uri": "https://localhost:8080/"
        },
        "id": "3WOENnmH_QOi",
        "outputId": "ae63ae1b-8824-468c-ecf0-ae4c62d43527"
      },
      "execution_count": 69,
      "outputs": [
        {
          "output_type": "execute_result",
          "data": {
            "text/plain": [
              "300000"
            ]
          },
          "metadata": {},
          "execution_count": 69
        }
      ]
    },
    {
      "cell_type": "code",
      "source": [
        "import nltk\n",
        "from nltk.corpus import stopwords\n",
        "from collections import Counter\n",
        "from wordcloud import WordCloud\n",
        "from textblob import TextBlob\n",
        "\n",
        "from pyspark.sql.functions import from_unixtime, to_date, year, udf, explode, split, col, length, rank, dense_rank, avg, sum,month\n",
        "from pyspark.sql.window import Window"
      ],
      "metadata": {
        "id": "yomZ8dq5AORy"
      },
      "execution_count": 99,
      "outputs": []
    },
    {
      "cell_type": "code",
      "source": [
        "sentiment = udf(lambda x: TextBlob(x).sentiment[0])\n",
        "spark.udf.register(\"sentiment\", sentiment)\n",
        "news_sentiment = news_df.withColumn(\"Sentiment\",sentiment('ContextualText').cast('double'))"
      ],
      "metadata": {
        "id": "LfjslojXAgC0"
      },
      "execution_count": 73,
      "outputs": []
    },
    {
      "cell_type": "code",
      "source": [
        "news_sentiment.show(5)"
      ],
      "metadata": {
        "colab": {
          "base_uri": "https://localhost:8080/"
        },
        "id": "983m0-QUBfki",
        "outputId": "d76c6450-2be0-4038-8344-7d27c61250d7"
      },
      "execution_count": 74,
      "outputs": [
        {
          "output_type": "stream",
          "name": "stdout",
          "text": [
            "+----------+--------------------+-------+--------+--------------------+--------------------+-------+------------------+--------------------+--------------------+\n",
            "|      Date|               Title|    Lat|     Lon|            Location|            GeoCoord|GeoType|           DocTone|      ContextualText|           Sentiment|\n",
            "+----------+--------------------+-------+--------+--------------------+--------------------+-------+------------------+--------------------+--------------------+\n",
            "|2020-01-22|S & P 500 , Nasda...|40.7068|-74.0113|New York Stock Ex...|POINT(-74.0113 40...|      3| -1.96078431372549|reuters the s p 5...| 0.18896103896103894|\n",
            "|2020-03-25|Some local leader...|44.2795|-73.9799|Lake Placid, New ...|POINT(-73.9799 44...|      3|-0.411522633744856|this current emer...|-0.05040792540792...|\n",
            "|2020-03-10|Coronavirus clust...|42.1497|-74.9384|New York, United ...|POINT(-74.9384 42...|      2| -3.69668246445498|down large events...|  0.1337617243867244|\n",
            "|2020-03-10|The Latest : Slov...|40.9115|-73.7824|New Rochelle, New...|POINT(-73.7824 40...|      3| -3.21167883211679|guard troops will...| 0.06560606060606061|\n",
            "|2020-03-10|Virus disrupts It...|42.1497|-74.9384|New York, United ...|POINT(-74.9384 42...|      2| -4.82708933717579|for the virus at ...| 0.02266542980828695|\n",
            "+----------+--------------------+-------+--------+--------------------+--------------------+-------+------------------+--------------------+--------------------+\n",
            "only showing top 5 rows\n",
            "\n"
          ]
        }
      ]
    },
    {
      "cell_type": "code",
      "source": [
        "ordered_sentiment = news_sentiment.orderBy([\"Sentiment\"]).show(5)"
      ],
      "metadata": {
        "colab": {
          "base_uri": "https://localhost:8080/"
        },
        "id": "jhkqFUDoClbh",
        "outputId": "274f7e83-374f-46dd-fbe6-653d7fcd60b9"
      },
      "execution_count": 77,
      "outputs": [
        {
          "output_type": "stream",
          "name": "stdout",
          "text": [
            "+----------+--------------------+-------+--------+--------------------+--------------------+-------+-----------------+--------------------+-------------------+\n",
            "|      Date|               Title|    Lat|     Lon|            Location|            GeoCoord|GeoType|          DocTone|      ContextualText|          Sentiment|\n",
            "+----------+--------------------+-------+--------+--------------------+--------------------+-------+-----------------+--------------------+-------------------+\n",
            "|2020-04-13|  OrlyTaitzEsq . com|42.1497|-74.9384|New York, United ...|POINT(-74.9384 42...|      2|              0.0|york gov andrew c...|               -1.0|\n",
            "|2020-04-26|NY inmates ramp u...| 42.919|-76.7263|Cayuga, New York,...|POINT(-76.7263 42...|      3|-4.20792079207921|haven correctiona...|               -1.0|\n",
            "|2020-04-12|BBC World Service...|42.1497|-74.9384|New York, United ...|POINT(-74.9384 42...|      2|-13.8888888888889|governor of the w...|-0.6212121212121212|\n",
            "|2020-04-01|National coronavi...| 40.809|-73.9613|Columbia Universi...|POINT(-73.9613 40...|      3| -3.6403750689465|another doctor sa...|-0.5861607142857144|\n",
            "|2020-04-01|National coronavi...| 40.809|-73.9613|Columbia Universi...|POINT(-73.9613 40...|      3|-2.27027027027027|another doctor sa...|-0.5861607142857144|\n",
            "+----------+--------------------+-------+--------+--------------------+--------------------+-------+-----------------+--------------------+-------------------+\n",
            "only showing top 5 rows\n",
            "\n"
          ]
        }
      ]
    },
    {
      "cell_type": "code",
      "source": [
        "news_sentiment.select('ContextualText').take(1)"
      ],
      "metadata": {
        "colab": {
          "base_uri": "https://localhost:8080/"
        },
        "id": "BD34laKeDsu1",
        "outputId": "93b94add-0825-44a4-ea13-f8669c88e702"
      },
      "execution_count": 81,
      "outputs": [
        {
          "output_type": "execute_result",
          "data": {
            "text/plain": [
              "[Row(ContextualText='reuters the s p 500 and the nasdaq were set for record highs on wednesday as investors took heart from china efforts to contain a virus outbreak and a strong forecast from ibm traders work on the floor at the new york stock exchange nyse in new york u s january 21 2020 reuters brendan mcdermid the main indexes retreated from record highs on tuesday after officials confirmed the first u s case of the coronavirus that has killed nine and infected 440 in china while the death toll has risen to nine it feels like affirmation were getting out of china is stemming fears that this is turning into an epidemic said art hogan')]"
            ]
          },
          "metadata": {},
          "execution_count": 81
        }
      ]
    },
    {
      "cell_type": "code",
      "source": [
        "ordered_sentiment = news_sentiment.orderBy([\"Sentiment\"])"
      ],
      "metadata": {
        "id": "bv5-9FhoE_7p"
      },
      "execution_count": 84,
      "outputs": []
    },
    {
      "cell_type": "code",
      "source": [
        "ordered_sentiment.select('ContextualText','Sentiment').take(10)"
      ],
      "metadata": {
        "colab": {
          "base_uri": "https://localhost:8080/"
        },
        "id": "6gnoHx82FWhM",
        "outputId": "a9dbd67e-3b33-4a12-912a-f8844486f7a6"
      },
      "execution_count": 86,
      "outputs": [
        {
          "output_type": "execute_result",
          "data": {
            "text/plain": [
              "[Row(ContextualText='haven correctional facility in dutchess county were making 200 to 250 coffins a week now state prisoners are making about 1 400 coffins a week the work has expanded to auburn correctional facility which is now making about 200 coffins a week state officials say the auburn correctional facility in cayuga county photo michael greenlar of syracuse com via tns the auburn correctional facility in cayuga county photo michael greenlar of syracuse com via tns that grim count is part of the state efforts to use incarcerated people as part of the response to covid 19 prisoners are also making masks and', Sentiment=-1.0),\n",
              " Row(ContextualText='york gov andrew cuomo said that the state is controlling the spread of the coronavirus and it appears that the worst is over if we continue to be', Sentiment=-1.0),\n",
              " Row(ContextualText='governor of the worst affected state new york said the death rate there is stabilising but at a horrific level also there are concerns in sweden about its strategy to fight the covid 19 outbreak', Sentiment=-0.6212121212121212),\n",
              " Row(ContextualText='another doctor said but staying at home could also be saving those working to save patients it feels like coronavirus is everywhere and it feels like we have very little to protect ourselves from getting very sick ourselves as healthcare workers dr cornelia griggs a pediatric surgery fellow at columbia university said monday i want everyone at home to know that even though it seems like staying at home is futile it not we need everyone at home to hold the line stay at home buy us time flatten the curve', Sentiment=-0.5861607142857144),\n",
              " Row(ContextualText='another doctor said but staying at home could also be saving those working to save patients it feels like coronavirus is everywhere and it feels like we have very little to protect ourselves from getting very sick ourselves as healthcare workers dr cornelia griggs a pediatric surgery fellow at columbia university said monday i want everyone at home to know that even though it seems like staying at home is futile it not we need everyone at home to hold the line stay at home buy us time flatten the curve', Sentiment=-0.5861607142857144),\n",
              " Row(ContextualText='another doctor said but staying at home could also be saving those working to save patients it feels like coronavirus is everywhere and it feels like we have very little to protect ourselves from getting very sick ourselves as healthcare workers dr cornelia griggs a pediatric surgery fellow at columbia university said monday i want everyone at home to know that even though it seems like staying at home is futile it not we need everyone at home to hold the line stay at home buy us time flatten the curve', Sentiment=-0.5861607142857144),\n",
              " Row(ContextualText='another doctor said but staying at home could also be saving those working to save patients it feels like coronavirus is everywhere and it feels like we have very little to protect ourselves from getting very sick ourselves as healthcare workers dr cornelia griggs a pediatric surgery fellow at columbia university said monday i want everyone at home to know that even though it seems like staying at home is futile it not we need everyone at home to hold the line stay at home buy us time flatten the curve', Sentiment=-0.5861607142857144),\n",
              " Row(ContextualText='another doctor said but staying at home could also be saving those working to save patients it feels like coronavirus is everywhere and it feels like we have very little to protect ourselves from getting very sick ourselves as healthcare workers dr cornelia griggs a pediatric surgery fellow at columbia university said monday i want everyone at home to know that even though it seems like staying at home is futile it not we need everyone at home to hold the line stay at home buy us time flatten the curve', Sentiment=-0.5861607142857144),\n",
              " Row(ContextualText='another doctor says but staying at home could also be saving those working to save patients it feels like coronavirus is everywhere and it feels like we have very little to protect ourselves from getting very sick ourselves as healthcare workers dr cornelia griggs a pediatric surgery fellow at columbia university said monday i want everyone at home to know that even though it seems like staying at home is futile it not we need everyone at home to hold the line stay at home buy us time flatten the curve', Sentiment=-0.5861607142857144),\n",
              " Row(ContextualText='another doctor said but staying at home could also be saving those working to save patients it feels like coronavirus is everywhere and it feels like we have very little to protect ourselves from getting very sick ourselves as healthcare workers dr cornelia griggs a pediatric surgery fellow at columbia university said monday i want everyone at home to know that even though it seems like staying at home is futile it not we need everyone at home to hold the line stay at home buy us time flatten the curve', Sentiment=-0.5861607142857144)]"
            ]
          },
          "metadata": {},
          "execution_count": 86
        }
      ]
    },
    {
      "cell_type": "code",
      "source": [
        "import datetime\n",
        "news_df.select(\n",
        "    year(\"Date\").alias('year')).show()"
      ],
      "metadata": {
        "colab": {
          "base_uri": "https://localhost:8080/"
        },
        "id": "3WnDCvQkICl2",
        "outputId": "c1293bdb-f9f4-4974-ec56-ce15f6782bc1"
      },
      "execution_count": 89,
      "outputs": [
        {
          "output_type": "stream",
          "name": "stdout",
          "text": [
            "+----+\n",
            "|year|\n",
            "+----+\n",
            "|2020|\n",
            "|2020|\n",
            "|2020|\n",
            "|2020|\n",
            "|2020|\n",
            "|2020|\n",
            "|2020|\n",
            "|2020|\n",
            "|2020|\n",
            "|2020|\n",
            "|2020|\n",
            "|2020|\n",
            "|2020|\n",
            "|2020|\n",
            "|2020|\n",
            "|2020|\n",
            "|2020|\n",
            "|2020|\n",
            "|2020|\n",
            "|2020|\n",
            "+----+\n",
            "only showing top 20 rows\n",
            "\n"
          ]
        }
      ]
    },
    {
      "cell_type": "code",
      "source": [
        "sentiment_df = news_sentiment.withColumn(\"Year\", year(\"Date\"))"
      ],
      "metadata": {
        "id": "nARELpuiIzem"
      },
      "execution_count": 95,
      "outputs": []
    },
    {
      "cell_type": "code",
      "source": [
        "sentiment_df = sentiment_df.withColumn(\"Month\", month(\"Date\"))"
      ],
      "metadata": {
        "id": "fxxBVQLMK0ea"
      },
      "execution_count": 100,
      "outputs": []
    },
    {
      "cell_type": "code",
      "source": [
        "year_sentiment = sentiment_df.groupBy(\"Month\").sum(\"Sentiment\")"
      ],
      "metadata": {
        "id": "ZvSnCpNbIkE4"
      },
      "execution_count": 102,
      "outputs": []
    },
    {
      "cell_type": "code",
      "source": [
        "pandasDF = year_sentiment.toPandas()\n",
        "print(pandasDF)"
      ],
      "metadata": {
        "colab": {
          "base_uri": "https://localhost:8080/"
        },
        "id": "UigVv7RtKLEu",
        "outputId": "db2249d0-8867-4fe1-e294-12f1f6390aee"
      },
      "execution_count": 103,
      "outputs": [
        {
          "output_type": "stream",
          "name": "stdout",
          "text": [
            "   Month  sum(Sentiment)\n",
            "0      1      176.764484\n",
            "1      3    11727.952807\n",
            "2      5     2988.940583\n",
            "3      4    11429.175197\n",
            "4      2      485.607043\n"
          ]
        }
      ]
    },
    {
      "cell_type": "code",
      "source": [
        "year_sentiment.select(\"Month\").show()"
      ],
      "metadata": {
        "colab": {
          "base_uri": "https://localhost:8080/"
        },
        "id": "U0sValATPYZJ",
        "outputId": "8190382c-c64d-443b-d6e9-55ef360dff51"
      },
      "execution_count": 107,
      "outputs": [
        {
          "output_type": "stream",
          "name": "stdout",
          "text": [
            "+-----+\n",
            "|Month|\n",
            "+-----+\n",
            "|    1|\n",
            "|    3|\n",
            "|    5|\n",
            "|    4|\n",
            "|    2|\n",
            "+-----+\n",
            "\n"
          ]
        }
      ]
    },
    {
      "cell_type": "code",
      "source": [
        "pandasDF.head(10)"
      ],
      "metadata": {
        "colab": {
          "base_uri": "https://localhost:8080/",
          "height": 215
        },
        "id": "FssAkuboPPvZ",
        "outputId": "282a3881-418d-4427-9b49-65036aad747e"
      },
      "execution_count": 105,
      "outputs": [
        {
          "output_type": "execute_result",
          "data": {
            "text/plain": [
              "   Month  sum(Sentiment)\n",
              "0      1      176.764484\n",
              "1      3    11727.952807\n",
              "2      5     2988.940583\n",
              "3      4    11429.175197\n",
              "4      2      485.607043"
            ],
            "text/html": [
              "\n",
              "  <div id=\"df-fe22e818-6b88-4449-bad7-7e2154ff2e69\">\n",
              "    <div class=\"colab-df-container\">\n",
              "      <div>\n",
              "<style scoped>\n",
              "    .dataframe tbody tr th:only-of-type {\n",
              "        vertical-align: middle;\n",
              "    }\n",
              "\n",
              "    .dataframe tbody tr th {\n",
              "        vertical-align: top;\n",
              "    }\n",
              "\n",
              "    .dataframe thead th {\n",
              "        text-align: right;\n",
              "    }\n",
              "</style>\n",
              "<table border=\"1\" class=\"dataframe\">\n",
              "  <thead>\n",
              "    <tr style=\"text-align: right;\">\n",
              "      <th></th>\n",
              "      <th>Month</th>\n",
              "      <th>sum(Sentiment)</th>\n",
              "    </tr>\n",
              "  </thead>\n",
              "  <tbody>\n",
              "    <tr>\n",
              "      <th>0</th>\n",
              "      <td>1</td>\n",
              "      <td>176.764484</td>\n",
              "    </tr>\n",
              "    <tr>\n",
              "      <th>1</th>\n",
              "      <td>3</td>\n",
              "      <td>11727.952807</td>\n",
              "    </tr>\n",
              "    <tr>\n",
              "      <th>2</th>\n",
              "      <td>5</td>\n",
              "      <td>2988.940583</td>\n",
              "    </tr>\n",
              "    <tr>\n",
              "      <th>3</th>\n",
              "      <td>4</td>\n",
              "      <td>11429.175197</td>\n",
              "    </tr>\n",
              "    <tr>\n",
              "      <th>4</th>\n",
              "      <td>2</td>\n",
              "      <td>485.607043</td>\n",
              "    </tr>\n",
              "  </tbody>\n",
              "</table>\n",
              "</div>\n",
              "      <button class=\"colab-df-convert\" onclick=\"convertToInteractive('df-fe22e818-6b88-4449-bad7-7e2154ff2e69')\"\n",
              "              title=\"Convert this dataframe to an interactive table.\"\n",
              "              style=\"display:none;\">\n",
              "        \n",
              "  <svg xmlns=\"http://www.w3.org/2000/svg\" height=\"24px\"viewBox=\"0 0 24 24\"\n",
              "       width=\"24px\">\n",
              "    <path d=\"M0 0h24v24H0V0z\" fill=\"none\"/>\n",
              "    <path d=\"M18.56 5.44l.94 2.06.94-2.06 2.06-.94-2.06-.94-.94-2.06-.94 2.06-2.06.94zm-11 1L8.5 8.5l.94-2.06 2.06-.94-2.06-.94L8.5 2.5l-.94 2.06-2.06.94zm10 10l.94 2.06.94-2.06 2.06-.94-2.06-.94-.94-2.06-.94 2.06-2.06.94z\"/><path d=\"M17.41 7.96l-1.37-1.37c-.4-.4-.92-.59-1.43-.59-.52 0-1.04.2-1.43.59L10.3 9.45l-7.72 7.72c-.78.78-.78 2.05 0 2.83L4 21.41c.39.39.9.59 1.41.59.51 0 1.02-.2 1.41-.59l7.78-7.78 2.81-2.81c.8-.78.8-2.07 0-2.86zM5.41 20L4 18.59l7.72-7.72 1.47 1.35L5.41 20z\"/>\n",
              "  </svg>\n",
              "      </button>\n",
              "      \n",
              "  <style>\n",
              "    .colab-df-container {\n",
              "      display:flex;\n",
              "      flex-wrap:wrap;\n",
              "      gap: 12px;\n",
              "    }\n",
              "\n",
              "    .colab-df-convert {\n",
              "      background-color: #E8F0FE;\n",
              "      border: none;\n",
              "      border-radius: 50%;\n",
              "      cursor: pointer;\n",
              "      display: none;\n",
              "      fill: #1967D2;\n",
              "      height: 32px;\n",
              "      padding: 0 0 0 0;\n",
              "      width: 32px;\n",
              "    }\n",
              "\n",
              "    .colab-df-convert:hover {\n",
              "      background-color: #E2EBFA;\n",
              "      box-shadow: 0px 1px 2px rgba(60, 64, 67, 0.3), 0px 1px 3px 1px rgba(60, 64, 67, 0.15);\n",
              "      fill: #174EA6;\n",
              "    }\n",
              "\n",
              "    [theme=dark] .colab-df-convert {\n",
              "      background-color: #3B4455;\n",
              "      fill: #D2E3FC;\n",
              "    }\n",
              "\n",
              "    [theme=dark] .colab-df-convert:hover {\n",
              "      background-color: #434B5C;\n",
              "      box-shadow: 0px 1px 3px 1px rgba(0, 0, 0, 0.15);\n",
              "      filter: drop-shadow(0px 1px 2px rgba(0, 0, 0, 0.3));\n",
              "      fill: #FFFFFF;\n",
              "    }\n",
              "  </style>\n",
              "\n",
              "      <script>\n",
              "        const buttonEl =\n",
              "          document.querySelector('#df-fe22e818-6b88-4449-bad7-7e2154ff2e69 button.colab-df-convert');\n",
              "        buttonEl.style.display =\n",
              "          google.colab.kernel.accessAllowed ? 'block' : 'none';\n",
              "\n",
              "        async function convertToInteractive(key) {\n",
              "          const element = document.querySelector('#df-fe22e818-6b88-4449-bad7-7e2154ff2e69');\n",
              "          const dataTable =\n",
              "            await google.colab.kernel.invokeFunction('convertToInteractive',\n",
              "                                                     [key], {});\n",
              "          if (!dataTable) return;\n",
              "\n",
              "          const docLinkHtml = 'Like what you see? Visit the ' +\n",
              "            '<a target=\"_blank\" href=https://colab.research.google.com/notebooks/data_table.ipynb>data table notebook</a>'\n",
              "            + ' to learn more about interactive tables.';\n",
              "          element.innerHTML = '';\n",
              "          dataTable['output_type'] = 'display_data';\n",
              "          await google.colab.output.renderOutput(dataTable, element);\n",
              "          const docLink = document.createElement('div');\n",
              "          docLink.innerHTML = docLinkHtml;\n",
              "          element.appendChild(docLink);\n",
              "        }\n",
              "      </script>\n",
              "    </div>\n",
              "  </div>\n",
              "  "
            ]
          },
          "metadata": {},
          "execution_count": 105
        }
      ]
    },
    {
      "cell_type": "code",
      "source": [
        "import seaborn as sns"
      ],
      "metadata": {
        "id": "vumTNrOdLdfI"
      },
      "execution_count": 104,
      "outputs": []
    },
    {
      "cell_type": "code",
      "source": [
        "sns.barplot(data=pandasDF, x=\"Month\", y=\"sum(Sentiment)\")"
      ],
      "metadata": {
        "colab": {
          "base_uri": "https://localhost:8080/",
          "height": 296
        },
        "id": "ROrXfnBILf4Z",
        "outputId": "5e354442-c5a7-4dc0-8653-71a4b787f20b"
      },
      "execution_count": 110,
      "outputs": [
        {
          "output_type": "execute_result",
          "data": {
            "text/plain": [
              "<matplotlib.axes._subplots.AxesSubplot at 0x7f0394b74fd0>"
            ]
          },
          "metadata": {},
          "execution_count": 110
        },
        {
          "output_type": "display_data",
          "data": {
            "text/plain": [
              "<Figure size 432x288 with 1 Axes>"
            ],
            "image/png": "[encoded data removed]"
          },
          "metadata": {
            "needs_background": "light"
          }
        }
      ]
    },
    {
      "cell_type": "code",
      "source": [
        "news.groupBy(\"Date\").sum(\"Sentiment\").show(truncate=False)"
      ],
      "metadata": {
        "id": "a-dIBTIvHho8"
      },
      "execution_count": null,
      "outputs": []
    },
    {
      "cell_type": "code",
      "source": [
        "# data = spark.createDataFrame([['Part this living in New York.This is sentence two. sentence 3']]).toDF('text')"
      ],
      "metadata": {
        "id": "pGOTIe2L1nBm"
      },
      "execution_count": 75,
      "outputs": []
    },
    {
      "cell_type": "code",
      "source": [
        "data = []"
      ],
      "metadata": {
        "id": "FwSpVjii1b6b"
      },
      "execution_count": null,
      "outputs": []
    },
    {
      "cell_type": "code",
      "execution_count": 10,
      "metadata": {
        "id": "4q9E5kbSvMn8"
      },
      "outputs": [],
      "source": [
        "import sparknlp\n",
        "from sparknlp.base import *\n",
        "from sparknlp.annotator import *"
      ]
    },
    {
      "cell_type": "code",
      "source": [
        "spark = sparknlp.start()"
      ],
      "metadata": {
        "id": "nVO_6avG1quj"
      },
      "execution_count": 30,
      "outputs": []
    },
    {
      "cell_type": "code",
      "source": [
        "data = spark.createDataFrame([['Parth is livingy in New York.This is senteeence two. sentence 3']]).toDF('text')"
      ],
      "metadata": {
        "id": "eueh9UsU1uZ5"
      },
      "execution_count": 43,
      "outputs": []
    },
    {
      "cell_type": "code",
      "source": [
        "document =  DocumentAssembler().setInputCol('text').setOutputCol('document').setCleanupMode('shrink')"
      ],
      "metadata": {
        "id": "sZ9CJVgXvO4d"
      },
      "execution_count": 44,
      "outputs": []
    },
    {
      "cell_type": "code",
      "source": [
        "sentence = SentenceDetector().setInputCols('document').setOutputCol('sentence')"
      ],
      "metadata": {
        "id": "oAV3PQtHw63Y"
      },
      "execution_count": 45,
      "outputs": []
    },
    {
      "cell_type": "code",
      "source": [
        "#always use sentence detector over document\n",
        "sentence.setExplodeSentences(True)"
      ],
      "metadata": {
        "colab": {
          "base_uri": "https://localhost:8080/"
        },
        "id": "Pfiff1SoyQ66",
        "outputId": "268aecbb-d259-474e-ce22-734e257be870"
      },
      "execution_count": 46,
      "outputs": [
        {
          "output_type": "execute_result",
          "data": {
            "text/plain": [
              "SentenceDetector_1f2ab7814791"
            ]
          },
          "metadata": {},
          "execution_count": 46
        }
      ]
    },
    {
      "cell_type": "code",
      "source": [
        "tokenizer = Tokenizer().setInputCols(\"sentence\").setOutputCol('token')"
      ],
      "metadata": {
        "id": "9d2QZdgOyUuY"
      },
      "execution_count": 47,
      "outputs": []
    },
    {
      "cell_type": "code",
      "source": [
        "tokenizer.setExceptions(['e-mail'])"
      ],
      "metadata": {
        "colab": {
          "base_uri": "https://localhost:8080/"
        },
        "id": "ISHfvojuylfn",
        "outputId": "99b60ca7-b1d0-45bb-d0cb-af73c5398d2a"
      },
      "execution_count": 48,
      "outputs": [
        {
          "output_type": "execute_result",
          "data": {
            "text/plain": [
              "Tokenizer_8d8b041f2707"
            ]
          },
          "metadata": {},
          "execution_count": 48
        }
      ]
    },
    {
      "cell_type": "code",
      "source": [
        "checker = NorvigSweetingModel.pretrained().setInputCols([\"token\"]).setOutputCol('checked')"
      ],
      "metadata": {
        "colab": {
          "base_uri": "https://localhost:8080/"
        },
        "id": "eAe_zmS7y0sA",
        "outputId": "a295bf5f-bac8-40fe-d2da-25732caf20fe"
      },
      "execution_count": 49,
      "outputs": [
        {
          "output_type": "stream",
          "name": "stdout",
          "text": [
            "spellcheck_norvig download started this may take some time.\n",
            "Approximate size to download 4.2 MB\n",
            "[OK!]\n"
          ]
        }
      ]
    },
    {
      "cell_type": "code",
      "source": [
        "embeddings = WordEmbeddingsModel.pretrained().setInputCols(['sentence','checked']).setOutputCol('embeddings')"
      ],
      "metadata": {
        "colab": {
          "base_uri": "https://localhost:8080/"
        },
        "id": "-XQRb5LY13zc",
        "outputId": "083cef29-0cde-46ff-bc5d-72a83d09d81c"
      },
      "execution_count": 50,
      "outputs": [
        {
          "output_type": "stream",
          "name": "stdout",
          "text": [
            "glove_100d download started this may take some time.\n",
            "Approximate size to download 145.3 MB\n",
            "[OK!]\n"
          ]
        }
      ]
    },
    {
      "cell_type": "code",
      "source": [
        "ner = NerDLModel.pretrained().setInputCols([\"sentence\",\"checked\",\"embeddings\"]).setOutputCol('ner')"
      ],
      "metadata": {
        "colab": {
          "base_uri": "https://localhost:8080/"
        },
        "id": "KOWTWOL_zFbK",
        "outputId": "f98bb558-e56f-430f-e539-33947f8fe092"
      },
      "execution_count": 51,
      "outputs": [
        {
          "output_type": "stream",
          "name": "stdout",
          "text": [
            "ner_dl download started this may take some time.\n",
            "Approximate size to download 13.6 MB\n",
            "[OK!]\n"
          ]
        }
      ]
    },
    {
      "cell_type": "code",
      "source": [
        "converter = NerConverter().setInputCols(['sentence','checked','ner']).setOutputCol('chunk')"
      ],
      "metadata": {
        "id": "Up3lfDHSzQWd"
      },
      "execution_count": 52,
      "outputs": []
    },
    {
      "cell_type": "code",
      "source": [
        "\n",
        "from pyspark.ml import Pipeline"
      ],
      "metadata": {
        "id": "50EAY_IZ0Ief"
      },
      "execution_count": 53,
      "outputs": []
    },
    {
      "cell_type": "code",
      "source": [
        "pipeline = Pipeline().setStages([document,sentence,tokenizer,checker,embeddings,ner,converter])"
      ],
      "metadata": {
        "id": "SiZgMnwb0NfI"
      },
      "execution_count": 54,
      "outputs": []
    },
    {
      "cell_type": "code",
      "source": [
        "#required by protocol even if stages are trained already\n",
        "model = pipeline.fit(data)"
      ],
      "metadata": {
        "id": "mhDA7KlH1AKT"
      },
      "execution_count": 55,
      "outputs": []
    },
    {
      "cell_type": "code",
      "source": [
        "result = model.transform(data)"
      ],
      "metadata": {
        "id": "cSFmErqm2sSJ"
      },
      "execution_count": 56,
      "outputs": []
    },
    {
      "cell_type": "code",
      "source": [
        "result.show()"
      ],
      "metadata": {
        "colab": {
          "base_uri": "https://localhost:8080/"
        },
        "id": "20v5OsCE2wvr",
        "outputId": "22551280-87db-4c3a-9f41-78afb018d371"
      },
      "execution_count": 57,
      "outputs": [
        {
          "output_type": "stream",
          "name": "stdout",
          "text": [
            "+--------------------+--------------------+--------------------+--------------------+--------------------+--------------------+--------------------+--------------------+\n",
            "|                text|            document|            sentence|               token|             checked|          embeddings|                 ner|               chunk|\n",
            "+--------------------+--------------------+--------------------+--------------------+--------------------+--------------------+--------------------+--------------------+\n",
            "|Parth is livingy ...|[{document, 0, 62...|[{document, 0, 51...|[{token, 0, 4, Pa...|[{token, 0, 4, Pa...|[{word_embeddings...|[{named_entity, 0...|[{chunk, 20, 32, ...|\n",
            "|Parth is livingy ...|[{document, 0, 62...|[{document, 53, 6...|[{token, 53, 60, ...|[{token, 53, 60, ...|[{word_embeddings...|[{named_entity, 5...|                  []|\n",
            "+--------------------+--------------------+--------------------+--------------------+--------------------+--------------------+--------------------+--------------------+\n",
            "\n"
          ]
        }
      ]
    },
    {
      "cell_type": "code",
      "source": [
        "result.select('sentence.result').show(truncate = False)"
      ],
      "metadata": {
        "colab": {
          "base_uri": "https://localhost:8080/"
        },
        "id": "M-wh4GG723za",
        "outputId": "b70ae105-be78-4532-c993-0f9fe7867116"
      },
      "execution_count": 58,
      "outputs": [
        {
          "output_type": "stream",
          "name": "stdout",
          "text": [
            "+------------------------------------------------------+\n",
            "|result                                                |\n",
            "+------------------------------------------------------+\n",
            "|[Parth is livingy in New York.This is senteeence two.]|\n",
            "|[sentence 3]                                          |\n",
            "+------------------------------------------------------+\n",
            "\n"
          ]
        }
      ]
    },
    {
      "cell_type": "code",
      "source": [
        "result.select('checked.result').show(truncate = False)"
      ],
      "metadata": {
        "colab": {
          "base_uri": "https://localhost:8080/"
        },
        "id": "dRl-VW6S3Hcy",
        "outputId": "9b11c5c0-72cb-47dd-aa43-8030f9bd7a8f"
      },
      "execution_count": 59,
      "outputs": [
        {
          "output_type": "stream",
          "name": "stdout",
          "text": [
            "+--------------------------------------------------------------+\n",
            "|result                                                        |\n",
            "+--------------------------------------------------------------+\n",
            "|[Party, is, livings, in, New, York.This, is, sentence, two, .]|\n",
            "|[sentence, 3]                                                 |\n",
            "+--------------------------------------------------------------+\n",
            "\n"
          ]
        }
      ]
    },
    {
      "cell_type": "code",
      "source": [
        "result.select('ner.result').show(truncate = False)"
      ],
      "metadata": {
        "colab": {
          "base_uri": "https://localhost:8080/"
        },
        "id": "p3MbcrH63SeB",
        "outputId": "737048de-3a21-48c7-fffc-873dd9dd684e"
      },
      "execution_count": 60,
      "outputs": [
        {
          "output_type": "stream",
          "name": "stdout",
          "text": [
            "+--------------------------------------+\n",
            "|result                                |\n",
            "+--------------------------------------+\n",
            "|[O, O, O, O, B-LOC, I-LOC, O, O, O, O]|\n",
            "|[O, O]                                |\n",
            "+--------------------------------------+\n",
            "\n"
          ]
        }
      ]
    },
    {
      "cell_type": "code",
      "source": [
        "result.select('chunk.result','chunk.begin','chunk.end').show(truncate = False)"
      ],
      "metadata": {
        "colab": {
          "base_uri": "https://localhost:8080/"
        },
        "id": "CH_aFsWX3vQx",
        "outputId": "6f34f820-77ff-4c07-969a-98069c0a1f31"
      },
      "execution_count": 61,
      "outputs": [
        {
          "output_type": "stream",
          "name": "stdout",
          "text": [
            "+---------------+-----+----+\n",
            "|result         |begin|end |\n",
            "+---------------+-----+----+\n",
            "|[New York.This]|[20] |[32]|\n",
            "|[]             |[]   |[]  |\n",
            "+---------------+-----+----+\n",
            "\n"
          ]
        }
      ]
    },
    {
      "cell_type": "code",
      "source": [
        "## we can also create LightPipelines which are faster as these do not have spark overheads"
      ],
      "metadata": {
        "id": "gkAxGtFK4DVw"
      },
      "execution_count": null,
      "outputs": []
    }
  ]
}